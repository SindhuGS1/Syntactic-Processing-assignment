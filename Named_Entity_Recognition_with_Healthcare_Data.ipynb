{
 "cells": [
  {
   "cell_type": "markdown",
   "metadata": {
    "id": "qDtABOQt9aw-"
   },
   "source": [
    "# **Syntactic Processing Assignment - Identifying Entities in Healthcare Data**\n"
   ]
  },
  {
   "cell_type": "markdown",
   "metadata": {
    "id": "WG37VRhr9_Nd"
   },
   "source": [
    "## Tables of Contents\n",
    "* [Problem Statement](#problem-statement)\n",
    "* [Importing and Installing Necessary Dependecies/Libraries](#importing-and-installing-necessary-dependecies/libraries)\n",
    "* [Task 1 Data Pre-Processing](#task-1-data-pre-processing)\n",
    "* [Task 2 Concept Identification](#task-2-concept-identification)\n",
    "* [Task 3 Defining Features for Conditional Random Field (CRF) Model](#task-3-defining-features-for-conditional-random-field-model)\n",
    "* [Task 4 Getting the features and the labels of sentences](#task-4-getting-the-features-and-the-labels-of-sentences)\n",
    "* [Task 5 Defining input and target variables](#task-5-defining-input-and-target-variables)\n",
    "* [Task 6 Building the CRF Model](#task-6-building-the-CRF-model)\n",
    "* [Task 7 Evaluation](#task-7-evaluation)\n",
    "* [Task 8 Identifying Diseases and Treatments using Custom NER](#task-8-identifying-diseases-and-treatments-using-custom-NER)\n"
   ]
  },
  {
   "cell_type": "markdown",
   "metadata": {
    "id": "9Lz6OQU7J82Y"
   },
   "source": [
    "## Problem Statement\n",
    "Let’s consider a hypothetical example of a health tech company called ‘BeHealthy’. Suppose ‘BeHealthy’ aims to connect the medical communities with millions of patients across the country.\n",
    "<br> \n",
    "\n",
    " \n",
    "\n",
    "‘BeHealthy’ has a web platform that allows doctors to list their services and manage patient interactions and provides services for patients such as booking interactions with doctors and ordering medicines online. Here, doctors can easily organise appointments, track past medical records and provide e-prescriptions.\n",
    "\n",
    "<br> \n",
    "\n",
    "So, companies like ‘BeHealthy’ are providing medical services, prescriptions and online consultations and generating huge data day by day.\n",
    "\n",
    "<br> \n",
    "\n",
    "Let’s take a look at the following snippet of medical data that may be generated when a doctor is writing notes to his/her patient or as a review of a therapy that he or she has done.\n",
    "\n",
    "<br>\n",
    "\n",
    "“The patient was a 62-year-old man with squamous cell lung cancer, which was first successfully treated by a combination of radiation therapy and chemotherapy.”\n",
    "\n",
    " <br>\n",
    "\n",
    "As you can see in this text, a person with a non-medical background cannot understand the various medical terms. We have taken a simple sentence from a medical data set to understand the problem and where you can understand the terms ‘cancer’ and ‘chemotherapy’. \n",
    "\n",
    " \n",
    "<br>\n",
    "Suppose you have been given such a data set in which a lot of text is written related to the medical domain. As you can see in the dataset, there are a lot of diseases that can be mentioned in the entire dataset and their related treatments are also mentioned implicitly in the text, which you saw in the aforementioned example that the disease mentioned is cancer and its treatment can be identified as chemotherapy using the sentence.\n",
    "\n",
    " \n",
    "<br>\n",
    "But, note that it is not explicitly mentioned in the dataset about the diseases and their treatment, but somehow, you can build an algorithm to map the diseases and their respective treatment.\n",
    "\n",
    " <br>\n",
    "\n",
    "Suppose you have been asked to determine the disease name and its probable treatment from the dataset and list it out in the form of a table or a dictionary like this.\n",
    "\n"
   ]
  },
  {
   "cell_type": "markdown",
   "metadata": {
    "id": "jThi0hT3Z3j3"
   },
   "source": [
    "## Importing and Installing Necessary Dependecies/Libraries"
   ]
  },
  {
   "cell_type": "markdown",
   "metadata": {
    "id": "WXRkCyKwZKyy"
   },
   "source": [
    "### Installing All Necessary Dependencies"
   ]
  },
  {
   "cell_type": "code",
   "execution_count": 1,
   "metadata": {
    "colab": {
     "base_uri": "https://localhost:8080/"
    },
    "id": "kf7ESZykZIwn",
    "outputId": "dae699da-1345-4e4e-b9e8-d3e243302bf9"
   },
   "outputs": [
    {
     "name": "stdout",
     "output_type": "stream",
     "text": [
      "Requirement already satisfied: pycrf in c:\\users\\gssi\\appdata\\local\\anaconda3\\lib\\site-packages (0.0.1)\n",
      "Requirement already satisfied: sklearn-crfsuite in c:\\users\\gssi\\appdata\\local\\anaconda3\\lib\\site-packages (0.3.6)\n",
      "Requirement already satisfied: python-crfsuite>=0.8.3 in c:\\users\\gssi\\appdata\\local\\anaconda3\\lib\\site-packages (from sklearn-crfsuite) (0.9.10)\n",
      "Requirement already satisfied: six in c:\\users\\gssi\\appdata\\local\\anaconda3\\lib\\site-packages (from sklearn-crfsuite) (1.16.0)\n",
      "Requirement already satisfied: tabulate in c:\\users\\gssi\\appdata\\local\\anaconda3\\lib\\site-packages (from sklearn-crfsuite) (0.8.10)\n",
      "Requirement already satisfied: tqdm>=2.0 in c:\\users\\gssi\\appdata\\local\\anaconda3\\lib\\site-packages (from sklearn-crfsuite) (4.65.0)\n",
      "Requirement already satisfied: colorama in c:\\users\\gssi\\appdata\\local\\anaconda3\\lib\\site-packages (from tqdm>=2.0->sklearn-crfsuite) (0.4.6)\n"
     ]
    },
    {
     "name": "stderr",
     "output_type": "stream",
     "text": [
      "The system cannot find the file specified.\n"
     ]
    }
   ],
   "source": [
    "!pip install pycrf\n",
    "!pip install sklearn-crfsuite\n",
    "!pip install -U 'scikit-learn<0.24'"
   ]
  },
  {
   "cell_type": "markdown",
   "metadata": {
    "id": "L-j32qxIZg6J"
   },
   "source": [
    "### Importing all the Dependencies for the Project"
   ]
  },
  {
   "cell_type": "code",
   "execution_count": 2,
   "metadata": {
    "id": "3gI2aIgrZVqc"
   },
   "outputs": [],
   "source": [
    "# Importing libraries\n",
    "import spacy\n",
    "import textwrap\n",
    "import warnings\n",
    "import json\n",
    "import sklearn_crfsuite\n",
    "from sklearn.metrics import f1_score\n",
    "from sklearn.model_selection import GridSearchCV\n",
    "from sklearn.metrics import make_scorer\n",
    "import pandas as pd\n",
    "import os\n",
    "\n",
    "from tqdm import tqdm\n",
    "from sklearn_crfsuite import metrics\n",
    "\n",
    "warnings.filterwarnings(\"ignore\")\n",
    "model = spacy.load(\"en_core_web_sm\")"
   ]
  },
  {
   "cell_type": "markdown",
   "metadata": {
    "id": "gW6zaVEsZ_mL"
   },
   "source": [
    "## Task 1 Data Pre-Processing\n",
    "\n"
   ]
  },
  {
   "cell_type": "markdown",
   "metadata": {
    "id": "XNDzJlUmcp92"
   },
   "source": [
    "#### The data set is given in the form of one word per line. Let's figure out how the information below is laid out:\n",
    "\n",
    "- If a sentence has x words, there will be x lines with one word on each line.\n",
    "\n",
    "- Also, there are blank lines between the two sentences. The data labels all have the same format."
   ]
  },
  {
   "cell_type": "markdown",
   "metadata": {
    "id": "0qfY8sPVbMbO"
   },
   "source": [
    "### Constructing proper sentences from individual words and printing 5 of the sentences.\n",
    "\n",
    "![image.png](data:image/png;base64,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)"
   ]
  },
  {
   "cell_type": "code",
   "execution_count": 3,
   "metadata": {},
   "outputs": [
    {
     "name": "stdout",
     "output_type": "stream",
     "text": [
      "Default string:  ₹50 \n",
      " Type of string <class 'str'> \n",
      "\n",
      "Encoded to UTF-8:  b'\\xe2\\x82\\xb950' \n",
      " Type of string <class 'bytes'> \n",
      "\n",
      "Decoded from UTF-8:  ₹50 \n",
      " Type of string <class 'str'> \n",
      "\n"
     ]
    }
   ],
   "source": [
    "# create a string\n",
    "amount = u\"₹50\"\n",
    "print('Default string: ', amount, '\\n', 'Type of string', type(amount), '\\n')\n",
    "\n",
    "# encode to UTF-8 byte format\n",
    "amount_encoded = amount.encode('utf-8')\n",
    "print('Encoded to UTF-8: ', amount_encoded, '\\n', 'Type of string', type(amount_encoded), '\\n')\n",
    "\n",
    "\n",
    "# sometime later in another computer...\n",
    "# decode from UTF-8 byte format\n",
    "amount_decoded = amount_encoded.decode('utf-8')\n",
    "print('Decoded from UTF-8: ', amount_decoded, '\\n', 'Type of string', type(amount_decoded), '\\n')"
   ]
  },
  {
   "cell_type": "code",
   "execution_count": 4,
   "metadata": {
    "id": "s3X9V7R5gsGS"
   },
   "outputs": [],
   "source": [
    "# Reading the train and test sentences and labels\n",
    "with open('train_sent', 'r') as train_sent_file:\n",
    "  train_words = train_sent_file.readlines()\n",
    "\n",
    "with open('train_label', 'r') as train_labels_file:\n",
    "  train_labels_by_word = train_labels_file.readlines()\n",
    "\n",
    "with open('test_sent', 'r') as test_sent_file:\n",
    "  test_words = test_sent_file.readlines()\n",
    "\n",
    "with open('test_label', 'r') as test_labels_file:\n",
    "  test_labels_by_word = test_labels_file.readlines()"
   ]
  },
  {
   "cell_type": "code",
   "execution_count": 5,
   "metadata": {
    "colab": {
     "base_uri": "https://localhost:8080/"
    },
    "id": "VMRVj7GYhL47",
    "outputId": "fecd2da6-940d-4f7a-fb09-1b338f657f8c"
   },
   "outputs": [
    {
     "name": "stdout",
     "output_type": "stream",
     "text": [
      "Count of tokens in training set\n",
      " No. of words:  48501 \n",
      "No. of labels:  48501\n",
      "\n",
      "\n",
      "Count of tokens in test set\n",
      " No. of words:  19674 \n",
      "No. of labels:  19674\n"
     ]
    }
   ],
   "source": [
    "# Sanity check to see that the number of tokens and no. of corresponding labels match.\n",
    "print(\"Count of tokens in training set\\n\",\"No. of words: \",len(train_words),\"\\nNo. of labels: \",len(train_labels_by_word))\n",
    "print(\"\\n\\nCount of tokens in test set\\n\",\"No. of words: \",len(test_words),\"\\nNo. of labels: \",len(test_labels_by_word))"
   ]
  },
  {
   "cell_type": "markdown",
   "metadata": {
    "id": "FeCBz4puhqct"
   },
   "source": [
    "### Function to combine tokens belonging to the same sentence. Sentences are separated by \"\\n\" in the dataset."
   ]
  },
  {
   "cell_type": "code",
   "execution_count": 6,
   "metadata": {
    "id": "WPY1GfLIhn7D"
   },
   "outputs": [],
   "source": [
    "def convert_to_sentences(dataset):\n",
    "    sent_list = []\n",
    "    sent = \"\"\n",
    "    for entity in dataset:\n",
    "        if entity != '\\n':\n",
    "            sent = sent + entity[:-1] + \" \"       # Adding word/label to current sentence / sequence of labels \n",
    "        else: \n",
    "            sent_list.append(sent[:-1])           # Getting rid of the space added after the last entity.\n",
    "            sent = \"\"\n",
    "    return sent_list"
   ]
  },
  {
   "cell_type": "markdown",
   "metadata": {
    "id": "xHBUl9b1hzsz"
   },
   "source": [
    "### Converting tokens to sentences and individual labels to sequences of corresponding labels."
   ]
  },
  {
   "cell_type": "code",
   "execution_count": 7,
   "metadata": {
    "id": "aSIe666Oh0Ye"
   },
   "outputs": [],
   "source": [
    "train_sentences = convert_to_sentences(train_words)\n",
    "train_labels = convert_to_sentences(train_labels_by_word)\n",
    "test_sentences = convert_to_sentences(test_words)\n",
    "test_labels = convert_to_sentences(test_labels_by_word)"
   ]
  },
  {
   "cell_type": "markdown",
   "metadata": {
    "id": "nYmh_slEh9Kl"
   },
   "source": [
    "### Printing the First Five Sentences and their Labels for Train Sentences"
   ]
  },
  {
   "cell_type": "code",
   "execution_count": 8,
   "metadata": {
    "colab": {
     "base_uri": "https://localhost:8080/"
    },
    "id": "QRV0hMfch9xM",
    "outputId": "150da320-60bd-461c-df30-a2ebfe2027de"
   },
   "outputs": [
    {
     "name": "stdout",
     "output_type": "stream",
     "text": [
      "First five training sentences and their labels:\n",
      "\n",
      "All live births > or = 23 weeks at the University of Vermont in 1995 ( n = 2395 ) were retrospectively analyzed for delivery route , indication for cesarean , gestational age , parity , and practice group ( to reflect risk status ) \n",
      " O O O O O O O O O O O O O O O O O O O O O O O O O O O O O O O O O O O O O O O O O O O O O \n",
      "\n",
      "The total cesarean rate was 14.4 % ( 344 of 2395 ) , and the primary rate was 11.4 % ( 244 of 2144 ) \n",
      " O O O O O O O O O O O O O O O O O O O O O O O O O \n",
      "\n",
      "Abnormal presentation was the most common indication ( 25.6 % , 88 of 344 ) \n",
      " O O O O O O O O O O O O O O O \n",
      "\n",
      "The `` corrected '' cesarean rate ( maternal-fetal medicine and transported patients excluded ) was 12.4 % ( 273 of 2194 ) , and the `` corrected '' primary rate was 9.6 % ( 190 of 1975 ) \n",
      " O O O O O O O O O O O O O O O O O O O O O O O O O O O O O O O O O O O O O O \n",
      "\n",
      "Arrest of dilation was the most common indication in both `` corrected '' subgroups ( 23.4 and 24.6 % , respectively ) \n",
      " O O O O O O O O O O O O O O O O O O O O O O \n",
      "\n"
     ]
    }
   ],
   "source": [
    "print(\"First five training sentences and their labels:\\n\")\n",
    "for i in range(5):\n",
    "    print(train_sentences[i],\"\\n\",train_labels[i],\"\\n\")"
   ]
  },
  {
   "cell_type": "markdown",
   "metadata": {
    "id": "SblPG20EiSH1"
   },
   "source": [
    "### Printing the First Five Sentences and their Labels for Test Sentences"
   ]
  },
  {
   "cell_type": "code",
   "execution_count": 9,
   "metadata": {
    "colab": {
     "base_uri": "https://localhost:8080/"
    },
    "id": "ICmZ3FuciZh9",
    "outputId": "86678c67-2894-4043-82c5-6f2749a2c4d8"
   },
   "outputs": [
    {
     "name": "stdout",
     "output_type": "stream",
     "text": [
      "First five test sentences and their labels:\n",
      "\n",
      "Furthermore , when all deliveries were analyzed , regardless of risk status but limited to gestational age > or = 36 weeks , the rates did not change ( 12.6 % , 280 of 2214 ; primary 9.2 % , 183 of 1994 ) \n",
      " O O O O O O O O O O O O O O O O O O O O O O O O O O O O O O O O O O O O O O O O O O O O \n",
      "\n",
      "As the ambient temperature increases , there is an increase in insensible fluid loss and the potential for dehydration \n",
      " O O O O O O O O O O O O O O O O O O O \n",
      "\n",
      "The daily high temperature ranged from 71 to 104 degrees F and AFI values ranged from 1.7 to 24.7 cm during the study period \n",
      " O O O O O O O O O O O O O O O O O O O O O O O O \n",
      "\n",
      "There was a significant correlation between the 2- , 3- , and 4-day mean temperature and AFI , with the 4-day mean being the most significant ( r = 0.31 , p & # 60 ; 0.001 ) \n",
      " O O O O O O O O O O O O O O O O O O O O O O O O O O O O O O O O O O O O O O \n",
      "\n",
      "Fluctuations in ambient temperature are inversely correlated to changes in AFI \n",
      " O O O O O O O O O O O \n",
      "\n"
     ]
    }
   ],
   "source": [
    "print(\"First five test sentences and their labels:\\n\")\n",
    "for i in range(5):\n",
    "    print(test_sentences[i],\"\\n\",test_labels[i],\"\\n\")"
   ]
  },
  {
   "cell_type": "markdown",
   "metadata": {
    "id": "yxV4XmbSa-NZ"
   },
   "source": [
    "### Function to read the file if given filename"
   ]
  },
  {
   "cell_type": "code",
   "execution_count": 10,
   "metadata": {
    "id": "wtmfvnaEZwlz"
   },
   "outputs": [],
   "source": [
    "def read_file(file_name):\n",
    "    with open(file_name, 'r', encoding='utf-8') as file:\n",
    "        content = file.readlines()\n",
    "    \n",
    "    sentences = []\n",
    "    sentence = \"\"\n",
    "    word_count = 0\n",
    "    \n",
    "    for word in content:\n",
    "        word = word.strip('\\n')\n",
    "        if word == \"\":\n",
    "            sentences.append(sentence.rstrip(\" \"))\n",
    "            sentence = \"\"\n",
    "        else:\n",
    "            word_count += 1\n",
    "            sentence += word + \" \"\n",
    "            \n",
    "    print(\"Items in File       : \", len(content))\n",
    "    print(\"Number of Words     : \", word_count)\n",
    "    print(\"Number of Sentences : \", len(sentences))\n",
    "    \n",
    "    prefix = \"First Sentence      :  \"\n",
    "    wrapper = textwrap.TextWrapper(initial_indent = prefix, width = 150, subsequent_indent = ' '*len(prefix))\n",
    "    print(wrapper.fill(sentences[0]))\n",
    "    \n",
    "    return sentences\n"
   ]
  },
  {
   "cell_type": "markdown",
   "metadata": {
    "id": "dnw3HKxzbzvH"
   },
   "source": [
    "### Counting the number of sentences in the processed train and test dataset"
   ]
  },
  {
   "cell_type": "code",
   "execution_count": 11,
   "metadata": {
    "colab": {
     "base_uri": "https://localhost:8080/"
    },
    "id": "kJ4GGp3ObB4y",
    "outputId": "8363c2ed-9ddf-42a9-c1ce-c160f5a57541"
   },
   "outputs": [
    {
     "name": "stdout",
     "output_type": "stream",
     "text": [
      "Training Sentences\n",
      "------------------\n",
      "Items in File       :  48501\n",
      "Number of Words     :  45902\n",
      "Number of Sentences :  2599\n",
      "First Sentence      :  All live births > or = 23 weeks at the University of Vermont in 1995 ( n = 2395 ) were retrospectively analyzed for delivery\n",
      "                       route , indication for cesarean , gestational age , parity , and practice group ( to reflect risk status )\n",
      "\n",
      "\n",
      "Testing Sentences\n",
      "------------------\n",
      "Items in File       :  19674\n",
      "Number of Words     :  18618\n",
      "Number of Sentences :  1056\n",
      "First Sentence      :  Furthermore , when all deliveries were analyzed , regardless of risk status but limited to gestational age > or = 36 weeks ,\n",
      "                       the rates did not change ( 12.6 % , 280 of 2214 ; primary 9.2 % , 183 of 1994 )\n"
     ]
    }
   ],
   "source": [
    "print(\"Training Sentences\")\n",
    "print(\"------------------\")\n",
    "train_sentences = read_file(\"train_sent\")\n",
    "\n",
    "print(\"\\n\")\n",
    "print(\"Testing Sentences\")\n",
    "print(\"------------------\")\n",
    "test_sentences = read_file(\"test_sent\")"
   ]
  },
  {
   "cell_type": "markdown",
   "metadata": {
    "id": "xZvDci0dcLnZ"
   },
   "source": [
    "### Counting the number of lines of labels in the processed train and test dataset."
   ]
  },
  {
   "cell_type": "code",
   "execution_count": 12,
   "metadata": {
    "colab": {
     "base_uri": "https://localhost:8080/"
    },
    "id": "5dGHUGprcGBV",
    "outputId": "7be56d3d-fbf5-4af4-c035-a1c102f99cbe"
   },
   "outputs": [
    {
     "name": "stdout",
     "output_type": "stream",
     "text": [
      "Training Labels\n",
      "--------------\n",
      "Items in File       :  48501\n",
      "Number of Words     :  45902\n",
      "Number of Sentences :  2599\n",
      "First Sentence      :  O O O O O O O O O O O O O O O O O O O O O O O O O O O O O O O O O O O O O O O O O O O O O\n",
      "\n",
      "\n",
      "Testing Labels\n",
      "--------------\n",
      "Items in File       :  19674\n",
      "Number of Words     :  18618\n",
      "Number of Sentences :  1056\n",
      "First Sentence      :  O O O O O O O O O O O O O O O O O O O O O O O O O O O O O O O O O O O O O O O O O O O O\n"
     ]
    }
   ],
   "source": [
    "print(\"Training Labels\")\n",
    "print(\"--------------\")\n",
    "train_labels = read_file(\"train_label\")\n",
    "\n",
    "print(\"\\n\")\n",
    "print(\"Testing Labels\")\n",
    "print(\"--------------\")\n",
    "test_labels = read_file(\"test_label\")"
   ]
  },
  {
   "cell_type": "markdown",
   "metadata": {
    "id": "ho_kuwxfce_R"
   },
   "source": [
    "## Task 2 Concept Identification\n",
    "\n",
    "We will first explore the various concepts present in the dataset. For this exploration I will be using Part of Speech (POS) tagging"
   ]
  },
  {
   "cell_type": "markdown",
   "metadata": {
    "id": "zB-GhaXHdYLm"
   },
   "source": [
    "### Extracting the tokens that have NOUN or PROPN (Proper Noun) as their PoS tags and finding the frequency of these tags."
   ]
  },
  {
   "cell_type": "code",
   "execution_count": 13,
   "metadata": {
    "colab": {
     "base_uri": "https://localhost:8080/"
    },
    "id": "V0Pt8ufgcXXi",
    "outputId": "aca778dd-15c1-49be-bcc2-e97311ae1570"
   },
   "outputs": [
    {
     "name": "stdout",
     "output_type": "stream",
     "text": [
      "Training Sentences\n",
      "------------------\n"
     ]
    },
    {
     "name": "stderr",
     "output_type": "stream",
     "text": [
      "2599it [06:30,  6.65it/s]\n"
     ]
    },
    {
     "name": "stdout",
     "output_type": "stream",
     "text": [
      "\n",
      "\n",
      "Testing Sentences\n",
      "------------------\n"
     ]
    },
    {
     "name": "stderr",
     "output_type": "stream",
     "text": [
      "1056it [02:59,  5.88it/s]\n"
     ]
    }
   ],
   "source": [
    "# Defining a function for getting POS tags\n",
    "def get_pos_tags(reviews, labels, tag = \"\"):\n",
    "    \n",
    "    sentence = []\n",
    "    pos = []\n",
    "    lemma = []\n",
    "    text = []\n",
    "    label = []\n",
    "    \n",
    "    i = 1 # Sentence Count\n",
    "    \n",
    "    for review, review_labels in tqdm(zip(reviews, labels)):\n",
    "        #doc = model(review)\n",
    "        for doc, review_label in zip(review.split(), review_labels.split()):\n",
    "            s = model(doc)\n",
    "            for tok in s:\n",
    "                sentence.append(tag + str(i))\n",
    "                pos.append(tok.pos_)\n",
    "                lemma.append(tok.lemma_)\n",
    "                text.append(tok.text)\n",
    "                label.append(review_label)\n",
    "        \n",
    "        i += 1\n",
    "    \n",
    "    return sentence, pos, lemma, text, label\n",
    "\n",
    "print(\"Training Sentences\")\n",
    "print(\"------------------\")\n",
    "train_sentence, train_pos, train_lemma, train_text, train_label = get_pos_tags(train_sentences, train_labels, \"train_\")\n",
    "train_frequency_df = pd.DataFrame({'sentence':train_sentence, 'text':train_text,'lemma':train_lemma,'pos':train_pos,'label':train_label})\n",
    "\n",
    "print(\"\\n\")\n",
    "print(\"Testing Sentences\")\n",
    "print(\"------------------\")\n",
    "test_sentence, test_pos, test_lemma, test_text, test_label = get_pos_tags(test_sentences, test_labels, \"test_\")\n",
    "test_frequency_df = pd.DataFrame({'sentence':test_sentence, 'text':test_text,'lemma':test_lemma,'pos':test_pos,'label':test_label})\n",
    "\n",
    "# Convert the data into a dataframe object.\n",
    "frequency_df = pd.concat((train_frequency_df.copy(), test_frequency_df.copy()),axis=0)"
   ]
  },
  {
   "cell_type": "markdown",
   "metadata": {
    "id": "sggMj0jfeKHL"
   },
   "source": [
    "### Printing the top 25 most common tokens having NOUN or PROPN PoS tags"
   ]
  },
  {
   "cell_type": "code",
   "execution_count": 14,
   "metadata": {
    "colab": {
     "base_uri": "https://localhost:8080/"
    },
    "id": "mKIRccSTd6gQ",
    "outputId": "c6ceac88-06b6-4eb2-cee8-e2853802bf58"
   },
   "outputs": [
    {
     "data": {
      "text/plain": [
       "patients        492\n",
       "treatment       281\n",
       "cancer          200\n",
       "therapy         175\n",
       "disease         143\n",
       "cell            140\n",
       "lung            116\n",
       "group            94\n",
       "gene             88\n",
       "chemotherapy     88\n",
       "effects          85\n",
       "results          79\n",
       "women            77\n",
       "patient          75\n",
       "TO_SEE           75\n",
       "surgery          71\n",
       "risk             71\n",
       "cases            71\n",
       "analysis         70\n",
       "human            67\n",
       "rate             67\n",
       "response         66\n",
       "survival         65\n",
       "children         64\n",
       "effect           64\n",
       "Name: text, dtype: int64"
      ]
     },
     "execution_count": 14,
     "metadata": {},
     "output_type": "execute_result"
    }
   ],
   "source": [
    "# Get most frequent text forms of nouns\n",
    "frequency_df[(frequency_df['pos'] == 'NOUN') | (frequency_df['pos'] == 'PROPN')]['text'].value_counts()[:25]"
   ]
  },
  {
   "cell_type": "code",
   "execution_count": 15,
   "metadata": {
    "colab": {
     "base_uri": "https://localhost:8080/"
    },
    "id": "7KEEPyDLeWCM",
    "outputId": "c1aaa6c4-e804-41ce-c616-3f7c359d5cde"
   },
   "outputs": [
    {
     "data": {
      "text/plain": [
       "patient         587\n",
       "treatment       316\n",
       "cancer          226\n",
       "cell            203\n",
       "therapy         182\n",
       "disease         172\n",
       "effect          163\n",
       "case            132\n",
       "group           128\n",
       "lung            120\n",
       "result          118\n",
       "gene            112\n",
       "year            105\n",
       "rate            102\n",
       "trial            91\n",
       "chemotherapy     91\n",
       "woman            89\n",
       "analysis         86\n",
       "protein          82\n",
       "response         81\n",
       "risk             78\n",
       "child            78\n",
       "human            77\n",
       "TO_SEE           75\n",
       "mutation         75\n",
       "Name: lemma, dtype: int64"
      ]
     },
     "execution_count": 15,
     "metadata": {},
     "output_type": "execute_result"
    }
   ],
   "source": [
    "# Get most frequent lemma forms of nouns\n",
    "frequency_df[(frequency_df['pos'] == 'NOUN') | (frequency_df['pos'] == 'PROPN')]['lemma'].value_counts()[:25]"
   ]
  },
  {
   "cell_type": "markdown",
   "metadata": {
    "id": "0jzD3uDketVm"
   },
   "source": [
    "## Task 3 Defining Features for Conditional Random Field (CRF) Model"
   ]
  },
  {
   "cell_type": "markdown",
   "metadata": {
    "id": "w2Yf8t3je5TB"
   },
   "source": [
    "### Here we have defined the following features for CRF model building:\n",
    "\n",
    "- f1 = input word is in lower case;\n",
    "- f2 = last 3 characters of word;\n",
    "- f3 = last 2 characters of word;\n",
    "- f4 = 1; if the word is in uppercase; otherwise, 0\n",
    "- f5 = 1; if the word is a number; otherwise, 0\n",
    "- f6 = 1; if the word starts with a capital letter; otherwise, 0\n",
    "- f7 = 1; if PoS Tag of the word is Noun or Pronoun; otherwise, 0\n",
    "- f8 = 1; if PoS Tag of the word is Noun or Pronoun; otherwise, 0\n",
    "- f9 = B; if beginning\n",
    "- f10 = E; if ending"
   ]
  },
  {
   "cell_type": "code",
   "execution_count": 16,
   "metadata": {
    "id": "zJi9X6Cne0Dt"
   },
   "outputs": [],
   "source": [
    "# Defining the function to get the feature value for one word.\n",
    "def getFeaturesForOneWord(word_details, pos):\n",
    "    word_details.reset_index(drop=True, inplace=True)\n",
    "    word = word_details[pos][0]\n",
    "    postag = word_details[pos][1]\n",
    "    \n",
    "    features = [\n",
    "        'bias=' + \"1.0\",\n",
    "        'word.lower=' + word.lower(),\n",
    "        'word[-3]=' + word[:-3],\n",
    "        'word[-2]=' + word[:-2],\n",
    "        'word.islower=%s' % word.islower(),\n",
    "        'word.isupper=%s' % word.isupper(),\n",
    "        'word.istitle=%s' % word.istitle(),\n",
    "        'word.isdigit=%s' % word.isdigit(),\n",
    "        'postag=' + postag,\n",
    "        'postag.isnounpronoun=%s' % (postag in ['NOUN','PROPN']),\n",
    "    ]\n",
    "    \n",
    "    if (pos > 0):\n",
    "        prev_word = word_details[pos-1][0]\n",
    "        prev_postag = word_details[pos-1][1]\n",
    "        \n",
    "        features.extend([\n",
    "            'prev_word.lower=' + prev_word.lower(),\n",
    "            'prev_word[-3]=' + prev_word[:-3],\n",
    "            'prev_word[-2]=' + prev_word[:-2],\n",
    "            'prev_word.islower=%s' % prev_word.islower(),\n",
    "            'prev_word.isupper=%s' % prev_word.isupper(),\n",
    "            'prev_word.istitle=%s' % prev_word.istitle(),\n",
    "            'prev_word.isdigit=%s' % prev_word.isdigit(),\n",
    "            'prev_postag=' + prev_postag,\n",
    "            'prev_postag.isnounpronoun=%s' % (prev_postag in ['NOUN','PROPN']),\n",
    "        ])\n",
    "    else:\n",
    "        features.append('BEG')\n",
    "        \n",
    "    if (pos < len(word_details) - 1):\n",
    "        next_word = word_details[pos+1][0]\n",
    "        next_postag = word_details[pos+1][1]\n",
    "        \n",
    "        features.extend([\n",
    "            'next_word.lower=' + next_word.lower(),\n",
    "            'next_word[-3]=' + next_word[:-3],\n",
    "            'next_word[-2]=' + next_word[:-2],\n",
    "            'next_word.islower=%s' % next_word.islower(),\n",
    "            'next_word.isupper=%s' % next_word.isupper(),\n",
    "            'next_word.istitle=%s' % next_word.istitle(),\n",
    "            'next_word.isdigit=%s' % next_word.isdigit(),\n",
    "            'next_postag=' + next_postag,\n",
    "            'next_postag.isnounpronoun=%s' % (next_postag in ['NOUN','PROPN']),\n",
    "        ])\n",
    "    else:\n",
    "        features.append('END')\n",
    "        \n",
    "    return features"
   ]
  },
  {
   "cell_type": "markdown",
   "metadata": {
    "id": "IaZvGYk-f7OB"
   },
   "source": [
    "## Task 4 Getting the features and the labels of sentences"
   ]
  },
  {
   "cell_type": "markdown",
   "metadata": {
    "id": "ZBIE_9CqgHyw"
   },
   "source": [
    "#### Writing a function to get the features for a sentence."
   ]
  },
  {
   "cell_type": "code",
   "execution_count": 17,
   "metadata": {
    "id": "stPUrR69fnSf"
   },
   "outputs": [],
   "source": [
    "def get_word_details(item):\n",
    "    return item[\"text\"], item[\"pos\"]\n",
    "\n",
    "def getFeaturesForOneSentence(sentence_id):\n",
    "    words_for_features = frequency_df[frequency_df[\"sentence\"] == sentence_id].apply(get_word_details, axis=1)\n",
    "    return [getFeaturesForOneWord(words_for_features, pos) for pos in range(len(words_for_features))]"
   ]
  },
  {
   "cell_type": "code",
   "execution_count": 18,
   "metadata": {
    "colab": {
     "base_uri": "https://localhost:8080/"
    },
    "id": "h1dHDS5RgVZg",
    "outputId": "0e9298bf-d50d-4cb0-9ae4-6aac8c395b8a"
   },
   "outputs": [
    {
     "name": "stdout",
     "output_type": "stream",
     "text": [
      "01 Sentence : All live births > or = 23 weeks at the University of Vermont in 1995 ( n = 2395 ) were retrospectively analyzed for delivery route ,\n",
      "              indication for cesarean , gestational age , parity , and practice group ( to reflect risk status )\n",
      "\n",
      "\n",
      "01 Word     : ['bias=1.0', 'word.lower=all', 'word[-3]=', 'word[-2]=A', 'word.islower=False', 'word.isupper=False', 'word.istitle=True',\n",
      "              'word.isdigit=False', 'postag=PRON', 'postag.isnounpronoun=False', 'BEG', 'next_word.lower=live', 'next_word[-3]=l', 'next_word[-2]=li',\n",
      "              'next_word.islower=True', 'next_word.isupper=False', 'next_word.istitle=False', 'next_word.isdigit=False', 'next_postag=VERB',\n",
      "              'next_postag.isnounpronoun=False']\n",
      "02 Word     : ['bias=1.0', 'word.lower=live', 'word[-3]=l', 'word[-2]=li', 'word.islower=True', 'word.isupper=False', 'word.istitle=False',\n",
      "              'word.isdigit=False', 'postag=VERB', 'postag.isnounpronoun=False', 'prev_word.lower=all', 'prev_word[-3]=', 'prev_word[-2]=A',\n",
      "              'prev_word.islower=False', 'prev_word.isupper=False', 'prev_word.istitle=True', 'prev_word.isdigit=False', 'prev_postag=PRON',\n",
      "              'prev_postag.isnounpronoun=False', 'next_word.lower=births', 'next_word[-3]=bir', 'next_word[-2]=birt', 'next_word.islower=True',\n",
      "              'next_word.isupper=False', 'next_word.istitle=False', 'next_word.isdigit=False', 'next_postag=NOUN', 'next_postag.isnounpronoun=True']\n",
      "03 Word     : ['bias=1.0', 'word.lower=births', 'word[-3]=bir', 'word[-2]=birt', 'word.islower=True', 'word.isupper=False', 'word.istitle=False',\n",
      "              'word.isdigit=False', 'postag=NOUN', 'postag.isnounpronoun=True', 'prev_word.lower=live', 'prev_word[-3]=l', 'prev_word[-2]=li',\n",
      "              'prev_word.islower=True', 'prev_word.isupper=False', 'prev_word.istitle=False', 'prev_word.isdigit=False', 'prev_postag=VERB',\n",
      "              'prev_postag.isnounpronoun=False', 'next_word.lower=>', 'next_word[-3]=', 'next_word[-2]=', 'next_word.islower=False',\n",
      "              'next_word.isupper=False', 'next_word.istitle=False', 'next_word.isdigit=False', 'next_postag=PUNCT', 'next_postag.isnounpronoun=False']\n",
      "04 Word     : ['bias=1.0', 'word.lower=>', 'word[-3]=', 'word[-2]=', 'word.islower=False', 'word.isupper=False', 'word.istitle=False',\n",
      "              'word.isdigit=False', 'postag=PUNCT', 'postag.isnounpronoun=False', 'prev_word.lower=births', 'prev_word[-3]=bir', 'prev_word[-2]=birt',\n",
      "              'prev_word.islower=True', 'prev_word.isupper=False', 'prev_word.istitle=False', 'prev_word.isdigit=False', 'prev_postag=NOUN',\n",
      "              'prev_postag.isnounpronoun=True', 'next_word.lower=or', 'next_word[-3]=', 'next_word[-2]=', 'next_word.islower=True',\n",
      "              'next_word.isupper=False', 'next_word.istitle=False', 'next_word.isdigit=False', 'next_postag=CCONJ', 'next_postag.isnounpronoun=False']\n",
      "05 Word     : ['bias=1.0', 'word.lower=or', 'word[-3]=', 'word[-2]=', 'word.islower=True', 'word.isupper=False', 'word.istitle=False',\n",
      "              'word.isdigit=False', 'postag=CCONJ', 'postag.isnounpronoun=False', 'prev_word.lower=>', 'prev_word[-3]=', 'prev_word[-2]=',\n",
      "              'prev_word.islower=False', 'prev_word.isupper=False', 'prev_word.istitle=False', 'prev_word.isdigit=False', 'prev_postag=PUNCT',\n",
      "              'prev_postag.isnounpronoun=False', 'next_word.lower==', 'next_word[-3]=', 'next_word[-2]=', 'next_word.islower=False',\n",
      "              'next_word.isupper=False', 'next_word.istitle=False', 'next_word.isdigit=False', 'next_postag=VERB', 'next_postag.isnounpronoun=False']\n",
      "06 Word     : ['bias=1.0', 'word.lower==', 'word[-3]=', 'word[-2]=', 'word.islower=False', 'word.isupper=False', 'word.istitle=False',\n",
      "              'word.isdigit=False', 'postag=VERB', 'postag.isnounpronoun=False', 'prev_word.lower=or', 'prev_word[-3]=', 'prev_word[-2]=',\n",
      "              'prev_word.islower=True', 'prev_word.isupper=False', 'prev_word.istitle=False', 'prev_word.isdigit=False', 'prev_postag=CCONJ',\n",
      "              'prev_postag.isnounpronoun=False', 'next_word.lower=23', 'next_word[-3]=', 'next_word[-2]=', 'next_word.islower=False',\n",
      "              'next_word.isupper=False', 'next_word.istitle=False', 'next_word.isdigit=True', 'next_postag=NUM', 'next_postag.isnounpronoun=False']\n",
      "07 Word     : ['bias=1.0', 'word.lower=23', 'word[-3]=', 'word[-2]=', 'word.islower=False', 'word.isupper=False', 'word.istitle=False',\n",
      "              'word.isdigit=True', 'postag=NUM', 'postag.isnounpronoun=False', 'prev_word.lower==', 'prev_word[-3]=', 'prev_word[-2]=',\n",
      "              'prev_word.islower=False', 'prev_word.isupper=False', 'prev_word.istitle=False', 'prev_word.isdigit=False', 'prev_postag=VERB',\n",
      "              'prev_postag.isnounpronoun=False', 'next_word.lower=weeks', 'next_word[-3]=we', 'next_word[-2]=wee', 'next_word.islower=True',\n",
      "              'next_word.isupper=False', 'next_word.istitle=False', 'next_word.isdigit=False', 'next_postag=NOUN', 'next_postag.isnounpronoun=True']\n",
      "08 Word     : ['bias=1.0', 'word.lower=weeks', 'word[-3]=we', 'word[-2]=wee', 'word.islower=True', 'word.isupper=False', 'word.istitle=False',\n",
      "              'word.isdigit=False', 'postag=NOUN', 'postag.isnounpronoun=True', 'prev_word.lower=23', 'prev_word[-3]=', 'prev_word[-2]=',\n",
      "              'prev_word.islower=False', 'prev_word.isupper=False', 'prev_word.istitle=False', 'prev_word.isdigit=True', 'prev_postag=NUM',\n",
      "              'prev_postag.isnounpronoun=False', 'next_word.lower=at', 'next_word[-3]=', 'next_word[-2]=', 'next_word.islower=True',\n",
      "              'next_word.isupper=False', 'next_word.istitle=False', 'next_word.isdigit=False', 'next_postag=ADP', 'next_postag.isnounpronoun=False']\n",
      "09 Word     : ['bias=1.0', 'word.lower=at', 'word[-3]=', 'word[-2]=', 'word.islower=True', 'word.isupper=False', 'word.istitle=False',\n",
      "              'word.isdigit=False', 'postag=ADP', 'postag.isnounpronoun=False', 'prev_word.lower=weeks', 'prev_word[-3]=we', 'prev_word[-2]=wee',\n",
      "              'prev_word.islower=True', 'prev_word.isupper=False', 'prev_word.istitle=False', 'prev_word.isdigit=False', 'prev_postag=NOUN',\n",
      "              'prev_postag.isnounpronoun=True', 'next_word.lower=the', 'next_word[-3]=', 'next_word[-2]=t', 'next_word.islower=True',\n",
      "              'next_word.isupper=False', 'next_word.istitle=False', 'next_word.isdigit=False', 'next_postag=PRON', 'next_postag.isnounpronoun=False']\n",
      "10 Word     : ['bias=1.0', 'word.lower=the', 'word[-3]=', 'word[-2]=t', 'word.islower=True', 'word.isupper=False', 'word.istitle=False',\n",
      "              'word.isdigit=False', 'postag=PRON', 'postag.isnounpronoun=False', 'prev_word.lower=at', 'prev_word[-3]=', 'prev_word[-2]=',\n",
      "              'prev_word.islower=True', 'prev_word.isupper=False', 'prev_word.istitle=False', 'prev_word.isdigit=False', 'prev_postag=ADP',\n",
      "              'prev_postag.isnounpronoun=False', 'next_word.lower=university', 'next_word[-3]=Univers', 'next_word[-2]=Universi',\n",
      "              'next_word.islower=False', 'next_word.isupper=False', 'next_word.istitle=True', 'next_word.isdigit=False', 'next_postag=NOUN',\n",
      "              'next_postag.isnounpronoun=True']\n",
      "11 Word     : ['bias=1.0', 'word.lower=university', 'word[-3]=Univers', 'word[-2]=Universi', 'word.islower=False', 'word.isupper=False',\n",
      "              'word.istitle=True', 'word.isdigit=False', 'postag=NOUN', 'postag.isnounpronoun=True', 'prev_word.lower=the', 'prev_word[-3]=',\n",
      "              'prev_word[-2]=t', 'prev_word.islower=True', 'prev_word.isupper=False', 'prev_word.istitle=False', 'prev_word.isdigit=False',\n",
      "              'prev_postag=PRON', 'prev_postag.isnounpronoun=False', 'next_word.lower=of', 'next_word[-3]=', 'next_word[-2]=',\n",
      "              'next_word.islower=True', 'next_word.isupper=False', 'next_word.istitle=False', 'next_word.isdigit=False', 'next_postag=ADP',\n",
      "              'next_postag.isnounpronoun=False']\n",
      "12 Word     : ['bias=1.0', 'word.lower=of', 'word[-3]=', 'word[-2]=', 'word.islower=True', 'word.isupper=False', 'word.istitle=False',\n",
      "              'word.isdigit=False', 'postag=ADP', 'postag.isnounpronoun=False', 'prev_word.lower=university', 'prev_word[-3]=Univers',\n",
      "              'prev_word[-2]=Universi', 'prev_word.islower=False', 'prev_word.isupper=False', 'prev_word.istitle=True', 'prev_word.isdigit=False',\n",
      "              'prev_postag=NOUN', 'prev_postag.isnounpronoun=True', 'next_word.lower=vermont', 'next_word[-3]=Verm', 'next_word[-2]=Vermo',\n",
      "              'next_word.islower=False', 'next_word.isupper=False', 'next_word.istitle=True', 'next_word.isdigit=False', 'next_postag=PROPN',\n",
      "              'next_postag.isnounpronoun=True']\n",
      "13 Word     : ['bias=1.0', 'word.lower=vermont', 'word[-3]=Verm', 'word[-2]=Vermo', 'word.islower=False', 'word.isupper=False', 'word.istitle=True',\n",
      "              'word.isdigit=False', 'postag=PROPN', 'postag.isnounpronoun=True', 'prev_word.lower=of', 'prev_word[-3]=', 'prev_word[-2]=',\n",
      "              'prev_word.islower=True', 'prev_word.isupper=False', 'prev_word.istitle=False', 'prev_word.isdigit=False', 'prev_postag=ADP',\n",
      "              'prev_postag.isnounpronoun=False', 'next_word.lower=in', 'next_word[-3]=', 'next_word[-2]=', 'next_word.islower=True',\n",
      "              'next_word.isupper=False', 'next_word.istitle=False', 'next_word.isdigit=False', 'next_postag=ADP', 'next_postag.isnounpronoun=False']\n",
      "14 Word     : ['bias=1.0', 'word.lower=in', 'word[-3]=', 'word[-2]=', 'word.islower=True', 'word.isupper=False', 'word.istitle=False',\n",
      "              'word.isdigit=False', 'postag=ADP', 'postag.isnounpronoun=False', 'prev_word.lower=vermont', 'prev_word[-3]=Verm',\n",
      "              'prev_word[-2]=Vermo', 'prev_word.islower=False', 'prev_word.isupper=False', 'prev_word.istitle=True', 'prev_word.isdigit=False',\n",
      "              'prev_postag=PROPN', 'prev_postag.isnounpronoun=True', 'next_word.lower=1995', 'next_word[-3]=1', 'next_word[-2]=19',\n",
      "              'next_word.islower=False', 'next_word.isupper=False', 'next_word.istitle=False', 'next_word.isdigit=True', 'next_postag=NUM',\n",
      "              'next_postag.isnounpronoun=False']\n",
      "15 Word     : ['bias=1.0', 'word.lower=1995', 'word[-3]=1', 'word[-2]=19', 'word.islower=False', 'word.isupper=False', 'word.istitle=False',\n",
      "              'word.isdigit=True', 'postag=NUM', 'postag.isnounpronoun=False', 'prev_word.lower=in', 'prev_word[-3]=', 'prev_word[-2]=',\n",
      "              'prev_word.islower=True', 'prev_word.isupper=False', 'prev_word.istitle=False', 'prev_word.isdigit=False', 'prev_postag=ADP',\n",
      "              'prev_postag.isnounpronoun=False', 'next_word.lower=(', 'next_word[-3]=', 'next_word[-2]=', 'next_word.islower=False',\n",
      "              'next_word.isupper=False', 'next_word.istitle=False', 'next_word.isdigit=False', 'next_postag=PUNCT', 'next_postag.isnounpronoun=False']\n",
      "16 Word     : ['bias=1.0', 'word.lower=(', 'word[-3]=', 'word[-2]=', 'word.islower=False', 'word.isupper=False', 'word.istitle=False',\n",
      "              'word.isdigit=False', 'postag=PUNCT', 'postag.isnounpronoun=False', 'prev_word.lower=1995', 'prev_word[-3]=1', 'prev_word[-2]=19',\n",
      "              'prev_word.islower=False', 'prev_word.isupper=False', 'prev_word.istitle=False', 'prev_word.isdigit=True', 'prev_postag=NUM',\n",
      "              'prev_postag.isnounpronoun=False', 'next_word.lower=n', 'next_word[-3]=', 'next_word[-2]=', 'next_word.islower=True',\n",
      "              'next_word.isupper=False', 'next_word.istitle=False', 'next_word.isdigit=False', 'next_postag=CCONJ', 'next_postag.isnounpronoun=False']\n",
      "17 Word     : ['bias=1.0', 'word.lower=n', 'word[-3]=', 'word[-2]=', 'word.islower=True', 'word.isupper=False', 'word.istitle=False',\n",
      "              'word.isdigit=False', 'postag=CCONJ', 'postag.isnounpronoun=False', 'prev_word.lower=(', 'prev_word[-3]=', 'prev_word[-2]=',\n",
      "              'prev_word.islower=False', 'prev_word.isupper=False', 'prev_word.istitle=False', 'prev_word.isdigit=False', 'prev_postag=PUNCT',\n",
      "              'prev_postag.isnounpronoun=False', 'next_word.lower==', 'next_word[-3]=', 'next_word[-2]=', 'next_word.islower=False',\n",
      "              'next_word.isupper=False', 'next_word.istitle=False', 'next_word.isdigit=False', 'next_postag=VERB', 'next_postag.isnounpronoun=False']\n",
      "18 Word     : ['bias=1.0', 'word.lower==', 'word[-3]=', 'word[-2]=', 'word.islower=False', 'word.isupper=False', 'word.istitle=False',\n",
      "              'word.isdigit=False', 'postag=VERB', 'postag.isnounpronoun=False', 'prev_word.lower=n', 'prev_word[-3]=', 'prev_word[-2]=',\n",
      "              'prev_word.islower=True', 'prev_word.isupper=False', 'prev_word.istitle=False', 'prev_word.isdigit=False', 'prev_postag=CCONJ',\n",
      "              'prev_postag.isnounpronoun=False', 'next_word.lower=2395', 'next_word[-3]=2', 'next_word[-2]=23', 'next_word.islower=False',\n",
      "              'next_word.isupper=False', 'next_word.istitle=False', 'next_word.isdigit=True', 'next_postag=NUM', 'next_postag.isnounpronoun=False']\n",
      "19 Word     : ['bias=1.0', 'word.lower=2395', 'word[-3]=2', 'word[-2]=23', 'word.islower=False', 'word.isupper=False', 'word.istitle=False',\n",
      "              'word.isdigit=True', 'postag=NUM', 'postag.isnounpronoun=False', 'prev_word.lower==', 'prev_word[-3]=', 'prev_word[-2]=',\n",
      "              'prev_word.islower=False', 'prev_word.isupper=False', 'prev_word.istitle=False', 'prev_word.isdigit=False', 'prev_postag=VERB',\n",
      "              'prev_postag.isnounpronoun=False', 'next_word.lower=)', 'next_word[-3]=', 'next_word[-2]=', 'next_word.islower=False',\n",
      "              'next_word.isupper=False', 'next_word.istitle=False', 'next_word.isdigit=False', 'next_postag=PUNCT', 'next_postag.isnounpronoun=False']\n",
      "20 Word     : ['bias=1.0', 'word.lower=)', 'word[-3]=', 'word[-2]=', 'word.islower=False', 'word.isupper=False', 'word.istitle=False',\n",
      "              'word.isdigit=False', 'postag=PUNCT', 'postag.isnounpronoun=False', 'prev_word.lower=2395', 'prev_word[-3]=2', 'prev_word[-2]=23',\n",
      "              'prev_word.islower=False', 'prev_word.isupper=False', 'prev_word.istitle=False', 'prev_word.isdigit=True', 'prev_postag=NUM',\n",
      "              'prev_postag.isnounpronoun=False', 'next_word.lower=were', 'next_word[-3]=w', 'next_word[-2]=we', 'next_word.islower=True',\n",
      "              'next_word.isupper=False', 'next_word.istitle=False', 'next_word.isdigit=False', 'next_postag=AUX', 'next_postag.isnounpronoun=False']\n",
      "21 Word     : ['bias=1.0', 'word.lower=were', 'word[-3]=w', 'word[-2]=we', 'word.islower=True', 'word.isupper=False', 'word.istitle=False',\n",
      "              'word.isdigit=False', 'postag=AUX', 'postag.isnounpronoun=False', 'prev_word.lower=)', 'prev_word[-3]=', 'prev_word[-2]=',\n",
      "              'prev_word.islower=False', 'prev_word.isupper=False', 'prev_word.istitle=False', 'prev_word.isdigit=False', 'prev_postag=PUNCT',\n",
      "              'prev_postag.isnounpronoun=False', 'next_word.lower=retrospectively', 'next_word[-3]=retrospectiv', 'next_word[-2]=retrospective',\n",
      "              'next_word.islower=True', 'next_word.isupper=False', 'next_word.istitle=False', 'next_word.isdigit=False', 'next_postag=ADV',\n",
      "              'next_postag.isnounpronoun=False']\n",
      "22 Word     : ['bias=1.0', 'word.lower=retrospectively', 'word[-3]=retrospectiv', 'word[-2]=retrospective', 'word.islower=True', 'word.isupper=False',\n",
      "              'word.istitle=False', 'word.isdigit=False', 'postag=ADV', 'postag.isnounpronoun=False', 'prev_word.lower=were', 'prev_word[-3]=w',\n",
      "              'prev_word[-2]=we', 'prev_word.islower=True', 'prev_word.isupper=False', 'prev_word.istitle=False', 'prev_word.isdigit=False',\n",
      "              'prev_postag=AUX', 'prev_postag.isnounpronoun=False', 'next_word.lower=analyzed', 'next_word[-3]=analy', 'next_word[-2]=analyz',\n",
      "              'next_word.islower=True', 'next_word.isupper=False', 'next_word.istitle=False', 'next_word.isdigit=False', 'next_postag=VERB',\n",
      "              'next_postag.isnounpronoun=False']\n",
      "23 Word     : ['bias=1.0', 'word.lower=analyzed', 'word[-3]=analy', 'word[-2]=analyz', 'word.islower=True', 'word.isupper=False',\n",
      "              'word.istitle=False', 'word.isdigit=False', 'postag=VERB', 'postag.isnounpronoun=False', 'prev_word.lower=retrospectively',\n",
      "              'prev_word[-3]=retrospectiv', 'prev_word[-2]=retrospective', 'prev_word.islower=True', 'prev_word.isupper=False',\n",
      "              'prev_word.istitle=False', 'prev_word.isdigit=False', 'prev_postag=ADV', 'prev_postag.isnounpronoun=False', 'next_word.lower=for',\n",
      "              'next_word[-3]=', 'next_word[-2]=f', 'next_word.islower=True', 'next_word.isupper=False', 'next_word.istitle=False',\n",
      "              'next_word.isdigit=False', 'next_postag=ADP', 'next_postag.isnounpronoun=False']\n",
      "24 Word     : ['bias=1.0', 'word.lower=for', 'word[-3]=', 'word[-2]=f', 'word.islower=True', 'word.isupper=False', 'word.istitle=False',\n",
      "              'word.isdigit=False', 'postag=ADP', 'postag.isnounpronoun=False', 'prev_word.lower=analyzed', 'prev_word[-3]=analy',\n",
      "              'prev_word[-2]=analyz', 'prev_word.islower=True', 'prev_word.isupper=False', 'prev_word.istitle=False', 'prev_word.isdigit=False',\n",
      "              'prev_postag=VERB', 'prev_postag.isnounpronoun=False', 'next_word.lower=delivery', 'next_word[-3]=deliv', 'next_word[-2]=delive',\n",
      "              'next_word.islower=True', 'next_word.isupper=False', 'next_word.istitle=False', 'next_word.isdigit=False', 'next_postag=NOUN',\n",
      "              'next_postag.isnounpronoun=True']\n",
      "25 Word     : ['bias=1.0', 'word.lower=delivery', 'word[-3]=deliv', 'word[-2]=delive', 'word.islower=True', 'word.isupper=False',\n",
      "              'word.istitle=False', 'word.isdigit=False', 'postag=NOUN', 'postag.isnounpronoun=True', 'prev_word.lower=for', 'prev_word[-3]=',\n",
      "              'prev_word[-2]=f', 'prev_word.islower=True', 'prev_word.isupper=False', 'prev_word.istitle=False', 'prev_word.isdigit=False',\n",
      "              'prev_postag=ADP', 'prev_postag.isnounpronoun=False', 'next_word.lower=route', 'next_word[-3]=ro', 'next_word[-2]=rou',\n",
      "              'next_word.islower=True', 'next_word.isupper=False', 'next_word.istitle=False', 'next_word.isdigit=False', 'next_postag=NOUN',\n",
      "              'next_postag.isnounpronoun=True']\n",
      "26 Word     : ['bias=1.0', 'word.lower=route', 'word[-3]=ro', 'word[-2]=rou', 'word.islower=True', 'word.isupper=False', 'word.istitle=False',\n",
      "              'word.isdigit=False', 'postag=NOUN', 'postag.isnounpronoun=True', 'prev_word.lower=delivery', 'prev_word[-3]=deliv',\n",
      "              'prev_word[-2]=delive', 'prev_word.islower=True', 'prev_word.isupper=False', 'prev_word.istitle=False', 'prev_word.isdigit=False',\n",
      "              'prev_postag=NOUN', 'prev_postag.isnounpronoun=True', 'next_word.lower=,', 'next_word[-3]=', 'next_word[-2]=',\n",
      "              'next_word.islower=False', 'next_word.isupper=False', 'next_word.istitle=False', 'next_word.isdigit=False', 'next_postag=PUNCT',\n",
      "              'next_postag.isnounpronoun=False']\n",
      "27 Word     : ['bias=1.0', 'word.lower=,', 'word[-3]=', 'word[-2]=', 'word.islower=False', 'word.isupper=False', 'word.istitle=False',\n",
      "              'word.isdigit=False', 'postag=PUNCT', 'postag.isnounpronoun=False', 'prev_word.lower=route', 'prev_word[-3]=ro', 'prev_word[-2]=rou',\n",
      "              'prev_word.islower=True', 'prev_word.isupper=False', 'prev_word.istitle=False', 'prev_word.isdigit=False', 'prev_postag=NOUN',\n",
      "              'prev_postag.isnounpronoun=True', 'next_word.lower=indication', 'next_word[-3]=indicat', 'next_word[-2]=indicati',\n",
      "              'next_word.islower=True', 'next_word.isupper=False', 'next_word.istitle=False', 'next_word.isdigit=False', 'next_postag=NOUN',\n",
      "              'next_postag.isnounpronoun=True']\n",
      "28 Word     : ['bias=1.0', 'word.lower=indication', 'word[-3]=indicat', 'word[-2]=indicati', 'word.islower=True', 'word.isupper=False',\n",
      "              'word.istitle=False', 'word.isdigit=False', 'postag=NOUN', 'postag.isnounpronoun=True', 'prev_word.lower=,', 'prev_word[-3]=',\n",
      "              'prev_word[-2]=', 'prev_word.islower=False', 'prev_word.isupper=False', 'prev_word.istitle=False', 'prev_word.isdigit=False',\n",
      "              'prev_postag=PUNCT', 'prev_postag.isnounpronoun=False', 'next_word.lower=for', 'next_word[-3]=', 'next_word[-2]=f',\n",
      "              'next_word.islower=True', 'next_word.isupper=False', 'next_word.istitle=False', 'next_word.isdigit=False', 'next_postag=ADP',\n",
      "              'next_postag.isnounpronoun=False']\n",
      "29 Word     : ['bias=1.0', 'word.lower=for', 'word[-3]=', 'word[-2]=f', 'word.islower=True', 'word.isupper=False', 'word.istitle=False',\n",
      "              'word.isdigit=False', 'postag=ADP', 'postag.isnounpronoun=False', 'prev_word.lower=indication', 'prev_word[-3]=indicat',\n",
      "              'prev_word[-2]=indicati', 'prev_word.islower=True', 'prev_word.isupper=False', 'prev_word.istitle=False', 'prev_word.isdigit=False',\n",
      "              'prev_postag=NOUN', 'prev_postag.isnounpronoun=True', 'next_word.lower=cesarean', 'next_word[-3]=cesar', 'next_word[-2]=cesare',\n",
      "              'next_word.islower=True', 'next_word.isupper=False', 'next_word.istitle=False', 'next_word.isdigit=False', 'next_postag=VERB',\n",
      "              'next_postag.isnounpronoun=False']\n",
      "30 Word     : ['bias=1.0', 'word.lower=cesarean', 'word[-3]=cesar', 'word[-2]=cesare', 'word.islower=True', 'word.isupper=False',\n",
      "              'word.istitle=False', 'word.isdigit=False', 'postag=VERB', 'postag.isnounpronoun=False', 'prev_word.lower=for', 'prev_word[-3]=',\n",
      "              'prev_word[-2]=f', 'prev_word.islower=True', 'prev_word.isupper=False', 'prev_word.istitle=False', 'prev_word.isdigit=False',\n",
      "              'prev_postag=ADP', 'prev_postag.isnounpronoun=False', 'next_word.lower=,', 'next_word[-3]=', 'next_word[-2]=',\n",
      "              'next_word.islower=False', 'next_word.isupper=False', 'next_word.istitle=False', 'next_word.isdigit=False', 'next_postag=PUNCT',\n",
      "              'next_postag.isnounpronoun=False']\n",
      "31 Word     : ['bias=1.0', 'word.lower=,', 'word[-3]=', 'word[-2]=', 'word.islower=False', 'word.isupper=False', 'word.istitle=False',\n",
      "              'word.isdigit=False', 'postag=PUNCT', 'postag.isnounpronoun=False', 'prev_word.lower=cesarean', 'prev_word[-3]=cesar',\n",
      "              'prev_word[-2]=cesare', 'prev_word.islower=True', 'prev_word.isupper=False', 'prev_word.istitle=False', 'prev_word.isdigit=False',\n",
      "              'prev_postag=VERB', 'prev_postag.isnounpronoun=False', 'next_word.lower=gestational', 'next_word[-3]=gestatio',\n",
      "              'next_word[-2]=gestation', 'next_word.islower=True', 'next_word.isupper=False', 'next_word.istitle=False', 'next_word.isdigit=False',\n",
      "              'next_postag=ADJ', 'next_postag.isnounpronoun=False']\n",
      "32 Word     : ['bias=1.0', 'word.lower=gestational', 'word[-3]=gestatio', 'word[-2]=gestation', 'word.islower=True', 'word.isupper=False',\n",
      "              'word.istitle=False', 'word.isdigit=False', 'postag=ADJ', 'postag.isnounpronoun=False', 'prev_word.lower=,', 'prev_word[-3]=',\n",
      "              'prev_word[-2]=', 'prev_word.islower=False', 'prev_word.isupper=False', 'prev_word.istitle=False', 'prev_word.isdigit=False',\n",
      "              'prev_postag=PUNCT', 'prev_postag.isnounpronoun=False', 'next_word.lower=age', 'next_word[-3]=', 'next_word[-2]=a',\n",
      "              'next_word.islower=True', 'next_word.isupper=False', 'next_word.istitle=False', 'next_word.isdigit=False', 'next_postag=NOUN',\n",
      "              'next_postag.isnounpronoun=True']\n",
      "33 Word     : ['bias=1.0', 'word.lower=age', 'word[-3]=', 'word[-2]=a', 'word.islower=True', 'word.isupper=False', 'word.istitle=False',\n",
      "              'word.isdigit=False', 'postag=NOUN', 'postag.isnounpronoun=True', 'prev_word.lower=gestational', 'prev_word[-3]=gestatio',\n",
      "              'prev_word[-2]=gestation', 'prev_word.islower=True', 'prev_word.isupper=False', 'prev_word.istitle=False', 'prev_word.isdigit=False',\n",
      "              'prev_postag=ADJ', 'prev_postag.isnounpronoun=False', 'next_word.lower=,', 'next_word[-3]=', 'next_word[-2]=',\n",
      "              'next_word.islower=False', 'next_word.isupper=False', 'next_word.istitle=False', 'next_word.isdigit=False', 'next_postag=PUNCT',\n",
      "              'next_postag.isnounpronoun=False']\n",
      "34 Word     : ['bias=1.0', 'word.lower=,', 'word[-3]=', 'word[-2]=', 'word.islower=False', 'word.isupper=False', 'word.istitle=False',\n",
      "              'word.isdigit=False', 'postag=PUNCT', 'postag.isnounpronoun=False', 'prev_word.lower=age', 'prev_word[-3]=', 'prev_word[-2]=a',\n",
      "              'prev_word.islower=True', 'prev_word.isupper=False', 'prev_word.istitle=False', 'prev_word.isdigit=False', 'prev_postag=NOUN',\n",
      "              'prev_postag.isnounpronoun=True', 'next_word.lower=parity', 'next_word[-3]=par', 'next_word[-2]=pari', 'next_word.islower=True',\n",
      "              'next_word.isupper=False', 'next_word.istitle=False', 'next_word.isdigit=False', 'next_postag=NOUN', 'next_postag.isnounpronoun=True']\n",
      "35 Word     : ['bias=1.0', 'word.lower=parity', 'word[-3]=par', 'word[-2]=pari', 'word.islower=True', 'word.isupper=False', 'word.istitle=False',\n",
      "              'word.isdigit=False', 'postag=NOUN', 'postag.isnounpronoun=True', 'prev_word.lower=,', 'prev_word[-3]=', 'prev_word[-2]=',\n",
      "              'prev_word.islower=False', 'prev_word.isupper=False', 'prev_word.istitle=False', 'prev_word.isdigit=False', 'prev_postag=PUNCT',\n",
      "              'prev_postag.isnounpronoun=False', 'next_word.lower=,', 'next_word[-3]=', 'next_word[-2]=', 'next_word.islower=False',\n",
      "              'next_word.isupper=False', 'next_word.istitle=False', 'next_word.isdigit=False', 'next_postag=PUNCT', 'next_postag.isnounpronoun=False']\n",
      "36 Word     : ['bias=1.0', 'word.lower=,', 'word[-3]=', 'word[-2]=', 'word.islower=False', 'word.isupper=False', 'word.istitle=False',\n",
      "              'word.isdigit=False', 'postag=PUNCT', 'postag.isnounpronoun=False', 'prev_word.lower=parity', 'prev_word[-3]=par', 'prev_word[-2]=pari',\n",
      "              'prev_word.islower=True', 'prev_word.isupper=False', 'prev_word.istitle=False', 'prev_word.isdigit=False', 'prev_postag=NOUN',\n",
      "              'prev_postag.isnounpronoun=True', 'next_word.lower=and', 'next_word[-3]=', 'next_word[-2]=a', 'next_word.islower=True',\n",
      "              'next_word.isupper=False', 'next_word.istitle=False', 'next_word.isdigit=False', 'next_postag=CCONJ', 'next_postag.isnounpronoun=False']\n",
      "37 Word     : ['bias=1.0', 'word.lower=and', 'word[-3]=', 'word[-2]=a', 'word.islower=True', 'word.isupper=False', 'word.istitle=False',\n",
      "              'word.isdigit=False', 'postag=CCONJ', 'postag.isnounpronoun=False', 'prev_word.lower=,', 'prev_word[-3]=', 'prev_word[-2]=',\n",
      "              'prev_word.islower=False', 'prev_word.isupper=False', 'prev_word.istitle=False', 'prev_word.isdigit=False', 'prev_postag=PUNCT',\n",
      "              'prev_postag.isnounpronoun=False', 'next_word.lower=practice', 'next_word[-3]=pract', 'next_word[-2]=practi', 'next_word.islower=True',\n",
      "              'next_word.isupper=False', 'next_word.istitle=False', 'next_word.isdigit=False', 'next_postag=VERB', 'next_postag.isnounpronoun=False']\n",
      "38 Word     : ['bias=1.0', 'word.lower=practice', 'word[-3]=pract', 'word[-2]=practi', 'word.islower=True', 'word.isupper=False',\n",
      "              'word.istitle=False', 'word.isdigit=False', 'postag=VERB', 'postag.isnounpronoun=False', 'prev_word.lower=and', 'prev_word[-3]=',\n",
      "              'prev_word[-2]=a', 'prev_word.islower=True', 'prev_word.isupper=False', 'prev_word.istitle=False', 'prev_word.isdigit=False',\n",
      "              'prev_postag=CCONJ', 'prev_postag.isnounpronoun=False', 'next_word.lower=group', 'next_word[-3]=gr', 'next_word[-2]=gro',\n",
      "              'next_word.islower=True', 'next_word.isupper=False', 'next_word.istitle=False', 'next_word.isdigit=False', 'next_postag=NOUN',\n",
      "              'next_postag.isnounpronoun=True']\n",
      "39 Word     : ['bias=1.0', 'word.lower=group', 'word[-3]=gr', 'word[-2]=gro', 'word.islower=True', 'word.isupper=False', 'word.istitle=False',\n",
      "              'word.isdigit=False', 'postag=NOUN', 'postag.isnounpronoun=True', 'prev_word.lower=practice', 'prev_word[-3]=pract',\n",
      "              'prev_word[-2]=practi', 'prev_word.islower=True', 'prev_word.isupper=False', 'prev_word.istitle=False', 'prev_word.isdigit=False',\n",
      "              'prev_postag=VERB', 'prev_postag.isnounpronoun=False', 'next_word.lower=(', 'next_word[-3]=', 'next_word[-2]=',\n",
      "              'next_word.islower=False', 'next_word.isupper=False', 'next_word.istitle=False', 'next_word.isdigit=False', 'next_postag=PUNCT',\n",
      "              'next_postag.isnounpronoun=False']\n",
      "40 Word     : ['bias=1.0', 'word.lower=(', 'word[-3]=', 'word[-2]=', 'word.islower=False', 'word.isupper=False', 'word.istitle=False',\n",
      "              'word.isdigit=False', 'postag=PUNCT', 'postag.isnounpronoun=False', 'prev_word.lower=group', 'prev_word[-3]=gr', 'prev_word[-2]=gro',\n",
      "              'prev_word.islower=True', 'prev_word.isupper=False', 'prev_word.istitle=False', 'prev_word.isdigit=False', 'prev_postag=NOUN',\n",
      "              'prev_postag.isnounpronoun=True', 'next_word.lower=to', 'next_word[-3]=', 'next_word[-2]=', 'next_word.islower=True',\n",
      "              'next_word.isupper=False', 'next_word.istitle=False', 'next_word.isdigit=False', 'next_postag=PART', 'next_postag.isnounpronoun=False']\n",
      "41 Word     : ['bias=1.0', 'word.lower=to', 'word[-3]=', 'word[-2]=', 'word.islower=True', 'word.isupper=False', 'word.istitle=False',\n",
      "              'word.isdigit=False', 'postag=PART', 'postag.isnounpronoun=False', 'prev_word.lower=(', 'prev_word[-3]=', 'prev_word[-2]=',\n",
      "              'prev_word.islower=False', 'prev_word.isupper=False', 'prev_word.istitle=False', 'prev_word.isdigit=False', 'prev_postag=PUNCT',\n",
      "              'prev_postag.isnounpronoun=False', 'next_word.lower=reflect', 'next_word[-3]=refl', 'next_word[-2]=refle', 'next_word.islower=True',\n",
      "              'next_word.isupper=False', 'next_word.istitle=False', 'next_word.isdigit=False', 'next_postag=VERB', 'next_postag.isnounpronoun=False']\n",
      "42 Word     : ['bias=1.0', 'word.lower=reflect', 'word[-3]=refl', 'word[-2]=refle', 'word.islower=True', 'word.isupper=False', 'word.istitle=False',\n",
      "              'word.isdigit=False', 'postag=VERB', 'postag.isnounpronoun=False', 'prev_word.lower=to', 'prev_word[-3]=', 'prev_word[-2]=',\n",
      "              'prev_word.islower=True', 'prev_word.isupper=False', 'prev_word.istitle=False', 'prev_word.isdigit=False', 'prev_postag=PART',\n",
      "              'prev_postag.isnounpronoun=False', 'next_word.lower=risk', 'next_word[-3]=r', 'next_word[-2]=ri', 'next_word.islower=True',\n",
      "              'next_word.isupper=False', 'next_word.istitle=False', 'next_word.isdigit=False', 'next_postag=NOUN', 'next_postag.isnounpronoun=True']\n",
      "43 Word     : ['bias=1.0', 'word.lower=risk', 'word[-3]=r', 'word[-2]=ri', 'word.islower=True', 'word.isupper=False', 'word.istitle=False',\n",
      "              'word.isdigit=False', 'postag=NOUN', 'postag.isnounpronoun=True', 'prev_word.lower=reflect', 'prev_word[-3]=refl',\n",
      "              'prev_word[-2]=refle', 'prev_word.islower=True', 'prev_word.isupper=False', 'prev_word.istitle=False', 'prev_word.isdigit=False',\n",
      "              'prev_postag=VERB', 'prev_postag.isnounpronoun=False', 'next_word.lower=status', 'next_word[-3]=sta', 'next_word[-2]=stat',\n",
      "              'next_word.islower=True', 'next_word.isupper=False', 'next_word.istitle=False', 'next_word.isdigit=False', 'next_postag=NOUN',\n",
      "              'next_postag.isnounpronoun=True']\n",
      "44 Word     : ['bias=1.0', 'word.lower=status', 'word[-3]=sta', 'word[-2]=stat', 'word.islower=True', 'word.isupper=False', 'word.istitle=False',\n",
      "              'word.isdigit=False', 'postag=NOUN', 'postag.isnounpronoun=True', 'prev_word.lower=risk', 'prev_word[-3]=r', 'prev_word[-2]=ri',\n",
      "              'prev_word.islower=True', 'prev_word.isupper=False', 'prev_word.istitle=False', 'prev_word.isdigit=False', 'prev_postag=NOUN',\n",
      "              'prev_postag.isnounpronoun=True', 'next_word.lower=)', 'next_word[-3]=', 'next_word[-2]=', 'next_word.islower=False',\n",
      "              'next_word.isupper=False', 'next_word.istitle=False', 'next_word.isdigit=False', 'next_postag=PUNCT', 'next_postag.isnounpronoun=False']\n",
      "45 Word     : ['bias=1.0', 'word.lower=)', 'word[-3]=', 'word[-2]=', 'word.islower=False', 'word.isupper=False', 'word.istitle=False',\n",
      "              'word.isdigit=False', 'postag=PUNCT', 'postag.isnounpronoun=False', 'prev_word.lower=status', 'prev_word[-3]=sta', 'prev_word[-2]=stat',\n",
      "              'prev_word.islower=True', 'prev_word.isupper=False', 'prev_word.istitle=False', 'prev_word.isdigit=False', 'prev_postag=NOUN',\n",
      "              'prev_postag.isnounpronoun=True', 'END']\n"
     ]
    }
   ],
   "source": [
    "features = getFeaturesForOneSentence(\"train_1\")\n",
    "prefix = \"01 Sentence : \"\n",
    "wrapper = textwrap.TextWrapper(initial_indent = prefix, width = 150, subsequent_indent = ' '*len(prefix))\n",
    "print(wrapper.fill(train_sentences[0]))\n",
    "print('\\n')\n",
    "\n",
    "i = 1\n",
    "for feature in features:\n",
    "    prefix = str('%02d' % i) + \" Word     : \"\n",
    "    wrapper = textwrap.TextWrapper(initial_indent = prefix, width = 150, subsequent_indent = ' '*len(prefix))\n",
    "    print(wrapper.fill(str(feature)))\n",
    "    i += 1"
   ]
  },
  {
   "cell_type": "markdown",
   "metadata": {
    "id": "mM5N-4VrjCOR"
   },
   "source": [
    "### Write a function to get the labels of a sentence"
   ]
  },
  {
   "cell_type": "code",
   "execution_count": 19,
   "metadata": {
    "id": "0sPqApRUi2VY"
   },
   "outputs": [],
   "source": [
    "# Write a code to get the labels for a sentence.\n",
    "def getLabelsForOneSentence(sentence_id):\n",
    "    return frequency_df[frequency_df[\"sentence\"] == sentence_id][\"label\"]"
   ]
  },
  {
   "cell_type": "code",
   "execution_count": 20,
   "metadata": {
    "colab": {
     "base_uri": "https://localhost:8080/"
    },
    "id": "C0DfFYncjG37",
    "outputId": "4ee49722-7e10-464d-9bab-7b9c583aa3e5"
   },
   "outputs": [
    {
     "name": "stdout",
     "output_type": "stream",
     "text": [
      "01 Labels  : O O O O O O O O O O O O O O O O O O O O O O O O O O O O O O O O O O O O O O O O O O O O O\n"
     ]
    }
   ],
   "source": [
    "labels = getLabelsForOneSentence(\"train_1\")\n",
    "\n",
    "prefix = \"01 Labels  : \"\n",
    "wrapper = textwrap.TextWrapper(initial_indent = prefix, width = 150, subsequent_indent = ' '*len(prefix))\n",
    "print(wrapper.fill(\" \".join(labels)))"
   ]
  },
  {
   "cell_type": "markdown",
   "metadata": {
    "id": "NNUdgvIVjX6m"
   },
   "source": [
    "## Task 5 Defining input and target variables\n",
    "#### Computing X and Y sequence matrices for training and test data. Checking that both sentences and labels are processed"
   ]
  },
  {
   "cell_type": "markdown",
   "metadata": {
    "id": "KTu1IpJ2jqsE"
   },
   "source": [
    "### Define the features' values for each sentence as input variable for CRF model in test and the train dataset"
   ]
  },
  {
   "cell_type": "code",
   "execution_count": 21,
   "metadata": {
    "colab": {
     "base_uri": "https://localhost:8080/"
    },
    "id": "GY9DD3OUjXMw",
    "outputId": "c624101b-dc1e-4000-a402-80710fdf1380"
   },
   "outputs": [
    {
     "name": "stdout",
     "output_type": "stream",
     "text": [
      "Training Sentences\n",
      "------------------\n"
     ]
    },
    {
     "name": "stderr",
     "output_type": "stream",
     "text": [
      "100%|██████████| 2599/2599 [00:34<00:00, 75.44it/s]\n"
     ]
    },
    {
     "name": "stdout",
     "output_type": "stream",
     "text": [
      "\n",
      "\n",
      "Testing Sentences\n",
      "------------------\n"
     ]
    },
    {
     "name": "stderr",
     "output_type": "stream",
     "text": [
      "100%|██████████| 1056/1056 [00:16<00:00, 64.48it/s]\n"
     ]
    }
   ],
   "source": [
    "print(\"Training Sentences\")\n",
    "print(\"------------------\")\n",
    "X_train = [getFeaturesForOneSentence(\"train_\" + str(i+1)) for i in tqdm(range(len(train_sentences)))] \n",
    "\n",
    "print(\"\\n\")\n",
    "print(\"Testing Sentences\")\n",
    "print(\"------------------\")\n",
    "X_test = [getFeaturesForOneSentence(\"test_\" + str(i+1)) for i in tqdm(range(len(test_sentences)))] "
   ]
  },
  {
   "cell_type": "markdown",
   "metadata": {
    "id": "JHFv9bnMj6NY"
   },
   "source": [
    "### Define the labels as the target variable for test and the train dataset"
   ]
  },
  {
   "cell_type": "code",
   "execution_count": 22,
   "metadata": {
    "colab": {
     "base_uri": "https://localhost:8080/"
    },
    "id": "EWBkuf0tjJPg",
    "outputId": "2714e304-794a-4416-dd5c-a2921a6fec24"
   },
   "outputs": [
    {
     "name": "stdout",
     "output_type": "stream",
     "text": [
      "Training Labels\n",
      "------------------\n"
     ]
    },
    {
     "name": "stderr",
     "output_type": "stream",
     "text": [
      "100%|██████████| 2599/2599 [00:33<00:00, 77.03it/s]\n"
     ]
    },
    {
     "name": "stdout",
     "output_type": "stream",
     "text": [
      "\n",
      "\n",
      "Testing Labels\n",
      "------------------\n"
     ]
    },
    {
     "name": "stderr",
     "output_type": "stream",
     "text": [
      "100%|██████████| 1056/1056 [00:15<00:00, 66.93it/s]\n"
     ]
    }
   ],
   "source": [
    "print(\"Training Labels\")\n",
    "print(\"------------------\")\n",
    "Y_train = [getLabelsForOneSentence(\"train_\" + str(i+1)) for i in tqdm(range(len(train_labels)))] \n",
    "\n",
    "print(\"\\n\")\n",
    "print(\"Testing Labels\")\n",
    "print(\"------------------\")\n",
    "Y_test = [getLabelsForOneSentence(\"test_\" + str(i+1)) for i in tqdm(range(len(test_labels)))]"
   ]
  },
  {
   "cell_type": "markdown",
   "metadata": {
    "id": "IzwDEFYykHin"
   },
   "source": [
    "## Task 6 Building the CRF Model"
   ]
  },
  {
   "cell_type": "markdown",
   "metadata": {
    "id": "dTlmbrtu5lgQ"
   },
   "source": [
    "### Hyperparameter Tuning for Best Results"
   ]
  },
  {
   "cell_type": "code",
   "execution_count": 23,
   "metadata": {
    "colab": {
     "base_uri": "https://localhost:8080/"
    },
    "id": "D8_LOV_7uks8",
    "outputId": "55312561-8727-42c2-bc3c-eaf08ae7df79"
   },
   "outputs": [],
   "source": [
    "# Build the CRF model.\n",
    "crf = sklearn_crfsuite.CRF( algorithm='lbfgs',c1=0.1, c2=0.1, max_iterations=100, all_possible_transitions=True)\n",
    "try:\n",
    "    crf.fit(X_train, Y_train)\n",
    "except AttributeError:\n",
    "    pass"
   ]
  },
  {
   "cell_type": "markdown",
   "metadata": {
    "id": "YnF8PF995tV-"
   },
   "source": [
    "## Task 7 Evaluation\n",
    "Predict the labels of each of the tokens in each sentence of the test dataset that has been pre processed earlier."
   ]
  },
  {
   "cell_type": "code",
   "execution_count": 24,
   "metadata": {
    "id": "M23hHVdh5iSB"
   },
   "outputs": [],
   "source": [
    "Y_pred = crf.predict(X_test)"
   ]
  },
  {
   "cell_type": "markdown",
   "metadata": {
    "id": "qLebtX3a6i0N"
   },
   "source": [
    "### Calculating the f1 score using the actual labels and the predicted labels of the test dataset."
   ]
  },
  {
   "cell_type": "code",
   "execution_count": 25,
   "metadata": {
    "colab": {
     "base_uri": "https://localhost:8080/"
    },
    "id": "7C8CUEXV6euh",
    "outputId": "a20cfdbb-23ac-4d1c-857b-097969b6c1b5"
   },
   "outputs": [
    {
     "name": "stdout",
     "output_type": "stream",
     "text": [
      "Predicted F1-Score : 92.07 % \n"
     ]
    }
   ],
   "source": [
    "f1_score = metrics.flat_f1_score(Y_test, Y_pred, average='weighted')\n",
    "print('Predicted F1-Score : {0} % '.format(round(f1_score*100,2)))"
   ]
  },
  {
   "cell_type": "markdown",
   "metadata": {
    "id": "WYOoJFQb6yXw"
   },
   "source": [
    "## Task 8 Identifying Diseases and Treatments using Custom NER\n",
    "\n",
    "We now use the CRF model's prediction to prepare a record of diseases identified in the corpus and treatments used for the diseases."
   ]
  },
  {
   "cell_type": "markdown",
   "metadata": {
    "id": "8FnI6fv_7MHD"
   },
   "source": [
    "### Creating the logic to get all the predicted treatments (T) labels corresponding to each disease (D) label in the test dataset.\n",
    "\n",
    "![image.png](data:image/png;base64,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)"
   ]
  },
  {
   "cell_type": "code",
   "execution_count": 26,
   "metadata": {
    "colab": {
     "base_uri": "https://localhost:8080/",
     "height": 206
    },
    "id": "ovOo2eiO6qlE",
    "outputId": "f7529780-7914-4ea6-a907-8606f12c96c8"
   },
   "outputs": [
    {
     "data": {
      "text/html": [
       "<div>\n",
       "<style scoped>\n",
       "    .dataframe tbody tr th:only-of-type {\n",
       "        vertical-align: middle;\n",
       "    }\n",
       "\n",
       "    .dataframe tbody tr th {\n",
       "        vertical-align: top;\n",
       "    }\n",
       "\n",
       "    .dataframe thead th {\n",
       "        text-align: right;\n",
       "    }\n",
       "</style>\n",
       "<table border=\"1\" class=\"dataframe\">\n",
       "  <thead>\n",
       "    <tr style=\"text-align: right;\">\n",
       "      <th></th>\n",
       "      <th>sentence</th>\n",
       "      <th>text</th>\n",
       "      <th>lemma</th>\n",
       "      <th>pos</th>\n",
       "      <th>label</th>\n",
       "      <th>pred_label</th>\n",
       "    </tr>\n",
       "  </thead>\n",
       "  <tbody>\n",
       "    <tr>\n",
       "      <th>0</th>\n",
       "      <td>test_1</td>\n",
       "      <td>Furthermore</td>\n",
       "      <td>furthermore</td>\n",
       "      <td>ADV</td>\n",
       "      <td>O</td>\n",
       "      <td>O</td>\n",
       "    </tr>\n",
       "    <tr>\n",
       "      <th>1</th>\n",
       "      <td>test_1</td>\n",
       "      <td>,</td>\n",
       "      <td>,</td>\n",
       "      <td>PUNCT</td>\n",
       "      <td>O</td>\n",
       "      <td>O</td>\n",
       "    </tr>\n",
       "    <tr>\n",
       "      <th>2</th>\n",
       "      <td>test_1</td>\n",
       "      <td>when</td>\n",
       "      <td>when</td>\n",
       "      <td>SCONJ</td>\n",
       "      <td>O</td>\n",
       "      <td>O</td>\n",
       "    </tr>\n",
       "    <tr>\n",
       "      <th>3</th>\n",
       "      <td>test_1</td>\n",
       "      <td>all</td>\n",
       "      <td>all</td>\n",
       "      <td>PRON</td>\n",
       "      <td>O</td>\n",
       "      <td>O</td>\n",
       "    </tr>\n",
       "    <tr>\n",
       "      <th>4</th>\n",
       "      <td>test_1</td>\n",
       "      <td>deliveries</td>\n",
       "      <td>delivery</td>\n",
       "      <td>NOUN</td>\n",
       "      <td>O</td>\n",
       "      <td>O</td>\n",
       "    </tr>\n",
       "  </tbody>\n",
       "</table>\n",
       "</div>"
      ],
      "text/plain": [
       "  sentence         text        lemma    pos label pred_label\n",
       "0   test_1  Furthermore  furthermore    ADV     O          O\n",
       "1   test_1            ,            ,  PUNCT     O          O\n",
       "2   test_1         when         when  SCONJ     O          O\n",
       "3   test_1          all          all   PRON     O          O\n",
       "4   test_1   deliveries     delivery   NOUN     O          O"
      ]
     },
     "execution_count": 26,
     "metadata": {},
     "output_type": "execute_result"
    }
   ],
   "source": [
    "def get_labels_as_array(labels):\n",
    "    pred_label = []\n",
    "\n",
    "    for label in labels:\n",
    "        pred_label.extend(label)\n",
    "        \n",
    "    return pred_label\n",
    "\n",
    "test_frequency_df[\"pred_label\"] = get_labels_as_array(Y_pred)\n",
    "test_frequency_df.head(5)"
   ]
  },
  {
   "cell_type": "code",
   "execution_count": 27,
   "metadata": {
    "colab": {
     "base_uri": "https://localhost:8080/"
    },
    "id": "BD9C2pQyEKGy",
    "outputId": "47e7218e-0b41-4bfa-875e-3618ccc0e911"
   },
   "outputs": [
    {
     "name": "stdout",
     "output_type": "stream",
     "text": [
      "{\n",
      "    \"AOM drug - resistant S. pneumoniae\": \"Amoxicillin remains the antibiotic of choice\",\n",
      "    \"Barrett 's esophagus\": \"Acid suppression therapy\",\n",
      "    \"Cranial nerve injuries\": \"persistent conduction blocks\",\n",
      "    \"Eisenmenger 's syndrome\": \"laparoscopic cholecystectomy\",\n",
      "    \"Parkinson 's disease\": \"Microelectrode - guided posteroventral pallidotomy\",\n",
      "    \"Pneumocystis carinii pneumonia\": \"trimethoprim - sulfamethoxazole\",\n",
      "    \"Spontaneous splenic rupture\": \"granulocyte colony - stimulating factor ( G - CSF )\",\n",
      "    \"abdominal pain\": \"thoracic paravertebral block ( tpvb )\",\n",
      "    \"acute carbon monoxide poisoning\": \"Hyperbaric or normobaric oxygen\",\n",
      "    \"acute cerebral ischemia\": \"Antiplatelet therapy\",\n",
      "    \"acute migraine treatment\": \"Sumatriptan\",\n",
      "    \"acute myocardial infarction\": \"thrombolytic treatment\",\n",
      "    \"acute occlusion of the middle cerebral artery a large embolus or high - grade stenosis\": \"thrombolytic therapy\",\n",
      "    \"advanced non -- small - cell lung cancer\": \"paclitaxel plus carboplatin ( pc ) vinorelbine plus cisplatin ( vc )\",\n",
      "    \"advanced nsclc\": \"combination chemotherapy of cisplatin , ifosfamide and irinotecan with rhg - csf support\",\n",
      "    \"advanced renal cell carcinoma\": \"interferon alpha preparations interferon alfa - N1 , interferon alfa-2a interferon alfa-2b\",\n",
      "    \"advanced stage ( TNM IIB - IVB ) mycosis fungoides\": \"a combination chemotherapy program consisting of bleomycin and methotrexate weekly\",\n",
      "    \"asthma\": \"Fluticasone propionate\",\n",
      "    \"autoimmune diseases\": \"High - dose intravenous immunoglobulin ( hdIVIg )\",\n",
      "    \"bacterial meningitis\": \"vaccines\",\n",
      "    \"bacterial meningitis Haemophilus influenzae meningitis\": \"antibiotic - resistant strains of bacterial pathogens\",\n",
      "    \"biliary colic symptoms biliary dyskinesia\": \"cholecystectomy\",\n",
      "    \"bos and concurrent acute rejection\": \"therapy with extracorporeal photopheresis\",\n",
      "    \"breast cancer\": \"subcutaneous mastectomy\",\n",
      "    \"bronchial asthma\": \"Non - steroidal anti - inflammatory therapy\",\n",
      "    \"cancer\": \"Matrix metalloproteinase inhibitors\",\n",
      "    \"cancer unresectable stage iii nsclc\": \"sequential chemotherapy followed by radiation\",\n",
      "    \"cardiac disease\": \"fenfluramine - phentermine\",\n",
      "    \"cardiac insufficiency\": \"beta - blockers\",\n",
      "    \"cerebral palsy\": \"Hyperbaric oxygen therapy\",\n",
      "    \"chronic hepatitis C\": \"Combination therapy with interferon - alpha ( IFN alpha ) plus Ribavirin\",\n",
      "    \"colds\": \"vitamin C\",\n",
      "    \"colds colds\": \"antibiotics antibiotics\",\n",
      "    \"colorectal cancer\": \"docosahexanoic acid ( DHA ) -concentrated fish oil capsules\",\n",
      "    \"colorectal metastases\": \"therapeutic vats metastasectomy\",\n",
      "    \"common cold\": \"Macrolide antibiotics\",\n",
      "    \"coronary - artery disease\": \"Antichlamydial antibiotics\",\n",
      "    \"disseminated malignant melanoma\": \"leukocyte A recombinant interferon ( rIFN - alpha A , Roferon - A\",\n",
      "    \"duodenal ulcer\": \"Measured subtotal gastrectomy\",\n",
      "    \"early Parkinson 's disease\": \"Ropinirole monotherapy\",\n",
      "    \"epilepsy ADHD\": \"Methylphenidate\",\n",
      "    \"epithelial ovarian cancer\": \"High - dose chemotherapy with autologous stem - cell support\",\n",
      "    \"esophageal achalasia\": \"botulinum toxin injection , pneumatic dilation laparoscopic myotomy\",\n",
      "    \"essential hypertension\": \"moxonidine `\",\n",
      "    \"extensive disease\": \"platinum dose ( cisplatin plus carboplatin ) in combination chemotherapy combination therapy with carboplatin\",\n",
      "    \"female stress urinary incontinence\": \"surgical treatment\",\n",
      "    \"foot infection in diabetic patients\": \"G - CSF treatment\",\n",
      "    \"gangliosides\": \"vaccines\",\n",
      "    \"gastrointestinal tumours\": \"Elective surgery\",\n",
      "    \"hairy cell leukemia infection\": \"antileukemic therapy\",\n",
      "    \"head and neck cancer\": \"undergoing irradiation therapy\",\n",
      "    \"heart failure\": \"beta - blockade\",\n",
      "    \"hepatic metastases from colorectal cancer\": \"Hepatic arterial infusion of chemotherapy\",\n",
      "    \"hepatitis B\": \"vaccine\",\n",
      "    \"hepatitis C viremia\": \"combination therapy\",\n",
      "    \"infection\": \"a combination of omeprazole , amoxicillin , and clarithromycin\",\n",
      "    \"inflammatory skin diseases\": \"topical corticosteroids\",\n",
      "    \"influenza breast cancer\": \"vaccination\",\n",
      "    \"inhibiting lung metastasis\": \"mdp - lys treatment\",\n",
      "    \"irritable bowel syndrome\": \"Chinese herbal medicine\",\n",
      "    \"ischemic heart disease\": \"Aortocoronary bypass grafting\",\n",
      "    \"large - bowel cancer\": \"oral UFT\",\n",
      "    \"limited - stage small - cell carcinoma of the lung\": \"combined - modality therapy\",\n",
      "    \"locally advanced non - small - cell lung cancer ( la - nsclc )\": \"combined - modality therapy ( cmt ; chemotherapy and radiotherapy )\",\n",
      "    \"low - grade non - Hodgkin 's lymphoma\": \"interferon alpha\",\n",
      "    \"low - grade non - Hodgkin 's lymphomas\": \"interferon interferon\",\n",
      "    \"lung abscess inflammation\": \"video - assisted thoracoscopic surgery\",\n",
      "    \"lung carcinoma\": \"curative therapy\",\n",
      "    \"macrosomic infants in gestational diabetes cases\": \"good glycemic control\",\n",
      "    \"macular degeneration ( AMD )\": \"external beam radiation therapy\",\n",
      "    \"major pulmonary embolism\": \"thrombolytic treatment\",\n",
      "    \"malignant melanoma\": \"single agent therapy interferon alfa-2a\",\n",
      "    \"malignant pleural effusions from nsclc\": \"systemic chemotherapy\",\n",
      "    \"malignant pleural mesothelioma\": \"radiotherapy , and chemotherapy\",\n",
      "    \"mild preeclampsia preeclampsia\": \"partner insemination program donor insemination program\",\n",
      "    \"mitomycin - resistant bladder cancer\": \"photodynamic therapy in combination with mitomycin C\",\n",
      "    \"moderately symptomatic benign prostatic hyperplasia\": \"surgical resection\",\n",
      "    \"mouse - adopted strain of influenza A2\": \"Gingyo - san\",\n",
      "    \"multidrug resistant TB\": \"pre - antibiotic era\",\n",
      "    \"multiple sclerosis\": \"Intravenous immunoglobulin treatment\",\n",
      "    \"neutropenia\": \"recombinant human granulocyte colony - stimulating factor ( rhg - csf ) cancer chemotherapy\",\n",
      "    \"non - Hodgkin 's lymphoma\": \"Conventional treatments\",\n",
      "    \"non - functioning endocrine pancreatic tumor with progressive liver and lymph node metastases\": \"i.m . lanreotide therapy\",\n",
      "    \"non - obstructive azoospermia\": \"TEFNA\",\n",
      "    \"non - seminomatous germ - cell tumors\": \"chemotherapy\",\n",
      "    \"non - small - cell - lung - cancer ( nsclc )\": \"cisplatin and radiotherapy\",\n",
      "    \"non - small cell lung cancer prostate cancer\": \"paclitaxel and carboplatin\",\n",
      "    \"nsclc\": \"chemotherapy\",\n",
      "    \"nsclc nsclc sclc\": \"got surgical treatment chemo- and radiotherapy\",\n",
      "    \"paranasal sinuses common cold\": \"pseudoephedrine plus acetaminophen\",\n",
      "    \"partial seizures\": \"lamotrigine ( LTG )\",\n",
      "    \"pathologic stage i non - small cell lung cancer\": \"fluorouracil derivative chemotherapeutic agent\",\n",
      "    \"persistent asthma\": \"corticosteroids\",\n",
      "    \"pertussis\": \"vaccines\",\n",
      "    \"platinum - pretreated ovarian cancer\": \"paclitaxel\",\n",
      "    \"postoperative pain relief\": \"single - dose epidural fentanyl ( F )\",\n",
      "    \"preeclampsia ( proteinuric hypertension\": \"intrauterine insemination with donor sperm intrauterine insemination\",\n",
      "    \"preexisting s.c . tumors peritoneal tumors\": \"Subcutaneous injection of irradiated LLC - IL2\",\n",
      "    \"primary cancer\": \"adjuvant radiation therapy\",\n",
      "    \"primary lung cancer adenocarcinoma ( ad ) squamous cell carcinoma\": \"resection\",\n",
      "    \"primary pulmonary hypertension ( PPH )\": \"fenfluramines\",\n",
      "    \"primary tumor ( li ) bronchogenic carcinoma\": \"resection\",\n",
      "    \"prostate cancer\": \"radical prostatectomy and iodine 125 interstitial radiotherapy\",\n",
      "    \"proximal hypospadias\": \"Tubularized incised plate hypospadias repair\",\n",
      "    \"psoriasis\": \"active vitamin D3 analogue , 1 alpha\",\n",
      "    \"pulmonary hypertension\": \"double lung transplantation\",\n",
      "    \"pulmonary symptoms attributable mediastinal teratomas\": \"chemotherapy\",\n",
      "    \"radiation - induced myelopathy\": \"heparin and enoxaparin\",\n",
      "    \"rectal cancer\": \"Nerve - sparing surgery\",\n",
      "    \"recurrent cervical adenocarcinoma\": \"weekly paclitaxel\",\n",
      "    \"regionally advanced disease\": \"resection , allowing neoadjuvant therapy\",\n",
      "    \"renal cell carcinoma\": \"Interferon treatment\",\n",
      "    \"renovascular hypertension\": \"Percutaneous transluminal angioplasty\",\n",
      "    \"restenosis\": \"coronary angioplasty\",\n",
      "    \"retinoblastoma\": \"radiotherapy\",\n",
      "    \"rheumatoid arthritis\": \"arthrodesis\",\n",
      "    \"severe acquired hyperammonemia cancer\": \"organ transplantation and chemotherapy\",\n",
      "    \"severe acute hepatitis accompanying cholestasis autoimmune hepatitis\": \"TJ-135\",\n",
      "    \"severe hypertension\": \"methyldopa\",\n",
      "    \"severe psoriasis\": \"systemic treatments\",\n",
      "    \"severe secondary peritonitis\": \"Surgical management\",\n",
      "    \"sickle cell disease\": \"hydroxyurea\",\n",
      "    \"single non - sclc melanoma ovarian carcinoma brain metastasis\": \"surgical resection\",\n",
      "    \"small - cell lung cancer\": \"combination chemotherapy\",\n",
      "    \"some malignant tumors such as non - small cell lung cancer\": \"surgery\",\n",
      "    \"sore throat\": \"antibiotics\",\n",
      "    \"spontaneous pneumothorax\": \"Thoracoscopic surgery\",\n",
      "    \"stable asthma\": \"aerosolized salbutamol\",\n",
      "    \"stage iii nsclc\": \"chemotherapy surgery or definitive irradiation\",\n",
      "    \"stress urinary incontinence\": \"surgery initial therapy\",\n",
      "    \"stroke brain hemorrhage atrial fibrillation\": \"Antiplatelet therapy\",\n",
      "    \"stroke hemorrhagic stroke\": \"double - bolus alteplase accelerated infusion of alteplase ( P=0.24\",\n",
      "    \"symptomatic metastases\": \"radiotherapy\",\n",
      "    \"testicular bleeding\": \"fine needle aspiration\",\n",
      "    \"tumor necrosis TSS\": \"interferon - gamma\",\n",
      "    \"unstable angina or non - Q - wave myocardial infarction\": \"roxithromycin\",\n",
      "    \"untreated small cell lung cancer ( sclc ) untreated sclc\": \"chemotherapy\",\n",
      "    \"ventricular tachycardia\": \"Guiding surgical therapy\",\n",
      "    \"viral infections\": \"Interferon plays\"\n",
      "}\n"
     ]
    }
   ],
   "source": [
    "new_df = test_frequency_df[(test_frequency_df.pred_label != 'O')]\n",
    "new_df.set_index('sentence',inplace=True)\n",
    "\n",
    "disease=[]\n",
    "treatment=[]\n",
    "sentence=[]\n",
    "med_dict = {}\n",
    "\n",
    "for i in new_df.index.unique():\n",
    "    try:\n",
    "        val = new_df.loc[i,'pred_label'].unique()\n",
    "        if len(val) == 2:\n",
    "            disease_val = new_df[new_df.pred_label == 'D'].loc[i,'text']\n",
    "            treatment_val = new_df[new_df.pred_label == 'T'].loc[i,'text']\n",
    "            disease_single = disease_val if type(disease_val) == str else \" \".join(disease_val)\n",
    "            treatment_single = treatment_val if type(treatment_val) == str else \" \".join(treatment_val)\n",
    "            if disease_single not in disease:\n",
    "                med_dict[disease_single] = treatment_single\n",
    "            else:\n",
    "                print('Entered')\n",
    "                med_dict[disease_single] = med_dict.get(disease_single)+'/'+treatment_single\n",
    "    except AttributeError:\n",
    "        pass\n",
    "\n",
    "print(json.dumps(dict(sorted(med_dict.items())), indent = 4))"
   ]
  },
  {
   "cell_type": "code",
   "execution_count": 28,
   "metadata": {
    "colab": {
     "base_uri": "https://localhost:8080/"
    },
    "id": "5oHm8GB4Iuon",
    "outputId": "c4f7052d-4723-4c37-ba98-de0d9807b9a1"
   },
   "outputs": [
    {
     "data": {
      "text/plain": [
       "{'macrosomic infants in gestational diabetes cases': 'good glycemic control',\n",
       " 'retinoblastoma': 'radiotherapy',\n",
       " 'epilepsy ADHD': 'Methylphenidate',\n",
       " 'unstable angina or non - Q - wave myocardial infarction': 'roxithromycin',\n",
       " 'coronary - artery disease': 'Antichlamydial antibiotics',\n",
       " 'primary pulmonary hypertension ( PPH )': 'fenfluramines',\n",
       " 'essential hypertension': 'moxonidine `',\n",
       " 'foot infection in diabetic patients': 'G - CSF treatment',\n",
       " 'stroke hemorrhagic stroke': 'double - bolus alteplase accelerated infusion of alteplase ( P=0.24',\n",
       " 'cardiac disease': 'fenfluramine - phentermine',\n",
       " 'rheumatoid arthritis': 'arthrodesis',\n",
       " \"early Parkinson 's disease\": 'Ropinirole monotherapy',\n",
       " 'sore throat': 'antibiotics',\n",
       " 'postoperative pain relief': 'single - dose epidural fentanyl ( F )',\n",
       " 'stress urinary incontinence': 'surgery initial therapy',\n",
       " 'female stress urinary incontinence': 'surgical treatment',\n",
       " 'preeclampsia ( proteinuric hypertension': 'intrauterine insemination with donor sperm intrauterine insemination',\n",
       " 'mild preeclampsia preeclampsia': 'partner insemination program donor insemination program',\n",
       " 'severe acquired hyperammonemia cancer': 'organ transplantation and chemotherapy',\n",
       " 'major pulmonary embolism': 'thrombolytic treatment',\n",
       " 'malignant pleural mesothelioma': 'radiotherapy , and chemotherapy',\n",
       " 'tumor necrosis TSS': 'interferon - gamma',\n",
       " 'pulmonary symptoms attributable mediastinal teratomas': 'chemotherapy',\n",
       " 'non - obstructive azoospermia': 'TEFNA',\n",
       " 'testicular bleeding': 'fine needle aspiration',\n",
       " 'heart failure': 'beta - blockade',\n",
       " 'acute migraine treatment': 'Sumatriptan',\n",
       " 'duodenal ulcer': 'Measured subtotal gastrectomy',\n",
       " 'colorectal cancer': 'docosahexanoic acid ( DHA ) -concentrated fish oil capsules',\n",
       " 'gastrointestinal tumours': 'Elective surgery',\n",
       " 'restenosis': 'coronary angioplasty',\n",
       " 'bronchial asthma': 'Non - steroidal anti - inflammatory therapy',\n",
       " 'Spontaneous splenic rupture': 'granulocyte colony - stimulating factor ( G - CSF )',\n",
       " \"Parkinson 's disease\": 'Microelectrode - guided posteroventral pallidotomy',\n",
       " 'cardiac insufficiency': 'beta - blockers',\n",
       " 'Cranial nerve injuries': 'persistent conduction blocks',\n",
       " \"Eisenmenger 's syndrome\": 'laparoscopic cholecystectomy',\n",
       " 'breast cancer': 'subcutaneous mastectomy',\n",
       " 'severe psoriasis': 'systemic treatments',\n",
       " 'non - seminomatous germ - cell tumors': 'chemotherapy',\n",
       " 'inhibiting lung metastasis': 'mdp - lys treatment',\n",
       " 'some malignant tumors such as non - small cell lung cancer': 'surgery',\n",
       " 'recurrent cervical adenocarcinoma': 'weekly paclitaxel',\n",
       " 'colds colds': 'antibiotics antibiotics',\n",
       " 'abdominal pain': 'thoracic paravertebral block ( tpvb )',\n",
       " 'inflammatory skin diseases': 'topical corticosteroids',\n",
       " 'cancer unresectable stage iii nsclc': 'sequential chemotherapy followed by radiation',\n",
       " 'nsclc nsclc sclc': 'got surgical treatment chemo- and radiotherapy',\n",
       " 'nsclc': 'chemotherapy',\n",
       " 'bos and concurrent acute rejection': 'therapy with extracorporeal photopheresis',\n",
       " 'locally advanced non - small - cell lung cancer ( la - nsclc )': 'combined - modality therapy ( cmt ; chemotherapy and radiotherapy )',\n",
       " 'radiation - induced myelopathy': 'heparin and enoxaparin',\n",
       " 'regionally advanced disease': 'resection , allowing neoadjuvant therapy',\n",
       " 'malignant pleural effusions from nsclc': 'systemic chemotherapy',\n",
       " 'pathologic stage i non - small cell lung cancer': 'fluorouracil derivative chemotherapeutic agent',\n",
       " 'non - small - cell - lung - cancer ( nsclc )': 'cisplatin and radiotherapy',\n",
       " 'lung carcinoma': 'curative therapy',\n",
       " 'single non - sclc melanoma ovarian carcinoma brain metastasis': 'surgical resection',\n",
       " 'colorectal metastases': 'therapeutic vats metastasectomy',\n",
       " 'limited - stage small - cell carcinoma of the lung': 'combined - modality therapy',\n",
       " 'advanced nsclc': 'combination chemotherapy of cisplatin , ifosfamide and irinotecan with rhg - csf support',\n",
       " 'platinum - pretreated ovarian cancer': 'paclitaxel',\n",
       " 'primary tumor ( li ) bronchogenic carcinoma': 'resection',\n",
       " 'non - small cell lung cancer prostate cancer': 'paclitaxel and carboplatin',\n",
       " 'primary lung cancer adenocarcinoma ( ad ) squamous cell carcinoma': 'resection',\n",
       " 'stage iii nsclc': 'chemotherapy surgery or definitive irradiation',\n",
       " 'small - cell lung cancer': 'combination chemotherapy',\n",
       " 'symptomatic metastases': 'radiotherapy',\n",
       " 'gangliosides': 'vaccines',\n",
       " 'primary cancer': 'adjuvant radiation therapy',\n",
       " 'advanced non -- small - cell lung cancer': 'paclitaxel plus carboplatin ( pc ) vinorelbine plus cisplatin ( vc )',\n",
       " 'extensive disease': 'platinum dose ( cisplatin plus carboplatin ) in combination chemotherapy combination therapy with carboplatin',\n",
       " 'untreated small cell lung cancer ( sclc ) untreated sclc': 'chemotherapy',\n",
       " 'pulmonary hypertension': 'double lung transplantation',\n",
       " 'neutropenia': 'recombinant human granulocyte colony - stimulating factor ( rhg - csf ) cancer chemotherapy',\n",
       " 'head and neck cancer': 'undergoing irradiation therapy',\n",
       " 'psoriasis': 'active vitamin D3 analogue , 1 alpha',\n",
       " 'disseminated malignant melanoma': 'leukocyte A recombinant interferon ( rIFN - alpha A , Roferon - A',\n",
       " 'advanced stage ( TNM IIB - IVB ) mycosis fungoides': 'a combination chemotherapy program consisting of bleomycin and methotrexate weekly',\n",
       " 'ventricular tachycardia': 'Guiding surgical therapy',\n",
       " 'colds': 'vitamin C',\n",
       " 'non - functioning endocrine pancreatic tumor with progressive liver and lymph node metastases': 'i.m . lanreotide therapy',\n",
       " 'severe acute hepatitis accompanying cholestasis autoimmune hepatitis': 'TJ-135',\n",
       " 'biliary colic symptoms biliary dyskinesia': 'cholecystectomy',\n",
       " 'paranasal sinuses common cold': 'pseudoephedrine plus acetaminophen',\n",
       " 'lung abscess inflammation': 'video - assisted thoracoscopic surgery',\n",
       " 'viral infections': 'Interferon plays',\n",
       " 'Pneumocystis carinii pneumonia': 'trimethoprim - sulfamethoxazole',\n",
       " 'common cold': 'Macrolide antibiotics',\n",
       " 'multidrug resistant TB': 'pre - antibiotic era',\n",
       " 'influenza breast cancer': 'vaccination',\n",
       " 'mouse - adopted strain of influenza A2': 'Gingyo - san',\n",
       " 'infection': 'a combination of omeprazole , amoxicillin , and clarithromycin',\n",
       " 'persistent asthma': 'corticosteroids',\n",
       " 'asthma': 'Fluticasone propionate',\n",
       " 'chronic hepatitis C': 'Combination therapy with interferon - alpha ( IFN alpha ) plus Ribavirin',\n",
       " 'hepatitis C viremia': 'combination therapy',\n",
       " 'AOM drug - resistant S. pneumoniae': 'Amoxicillin remains the antibiotic of choice',\n",
       " 'bacterial meningitis Haemophilus influenzae meningitis': 'antibiotic - resistant strains of bacterial pathogens',\n",
       " 'bacterial meningitis': 'vaccines',\n",
       " 'macular degeneration ( AMD )': 'external beam radiation therapy',\n",
       " 'acute myocardial infarction': 'thrombolytic treatment',\n",
       " 'ischemic heart disease': 'Aortocoronary bypass grafting',\n",
       " 'preexisting s.c . tumors peritoneal tumors': 'Subcutaneous injection of irradiated LLC - IL2',\n",
       " 'acute occlusion of the middle cerebral artery a large embolus or high - grade stenosis': 'thrombolytic therapy',\n",
       " 'autoimmune diseases': 'High - dose intravenous immunoglobulin ( hdIVIg )',\n",
       " 'large - bowel cancer': 'oral UFT',\n",
       " 'malignant melanoma': 'single agent therapy interferon alfa-2a',\n",
       " 'advanced renal cell carcinoma': 'interferon alpha preparations interferon alfa - N1 , interferon alfa-2a interferon alfa-2b',\n",
       " 'hairy cell leukemia infection': 'antileukemic therapy',\n",
       " \"low - grade non - Hodgkin 's lymphoma\": 'interferon alpha',\n",
       " \"low - grade non - Hodgkin 's lymphomas\": 'interferon interferon',\n",
       " 'partial seizures': 'lamotrigine ( LTG )',\n",
       " 'esophageal achalasia': 'botulinum toxin injection , pneumatic dilation laparoscopic myotomy',\n",
       " 'irritable bowel syndrome': 'Chinese herbal medicine',\n",
       " 'proximal hypospadias': 'Tubularized incised plate hypospadias repair',\n",
       " 'prostate cancer': 'radical prostatectomy and iodine 125 interstitial radiotherapy',\n",
       " 'sickle cell disease': 'hydroxyurea',\n",
       " 'mitomycin - resistant bladder cancer': 'photodynamic therapy in combination with mitomycin C',\n",
       " 'rectal cancer': 'Nerve - sparing surgery',\n",
       " 'spontaneous pneumothorax': 'Thoracoscopic surgery',\n",
       " \"non - Hodgkin 's lymphoma\": 'Conventional treatments',\n",
       " 'acute cerebral ischemia': 'Antiplatelet therapy',\n",
       " 'renal cell carcinoma': 'Interferon treatment',\n",
       " \"Barrett 's esophagus\": 'Acid suppression therapy',\n",
       " 'severe hypertension': 'methyldopa',\n",
       " 'epithelial ovarian cancer': 'High - dose chemotherapy with autologous stem - cell support',\n",
       " 'stroke brain hemorrhage atrial fibrillation': 'Antiplatelet therapy',\n",
       " 'renovascular hypertension': 'Percutaneous transluminal angioplasty',\n",
       " 'moderately symptomatic benign prostatic hyperplasia': 'surgical resection',\n",
       " 'multiple sclerosis': 'Intravenous immunoglobulin treatment',\n",
       " 'cerebral palsy': 'Hyperbaric oxygen therapy',\n",
       " 'acute carbon monoxide poisoning': 'Hyperbaric or normobaric oxygen',\n",
       " 'cancer': 'Matrix metalloproteinase inhibitors',\n",
       " 'hepatitis B': 'vaccine',\n",
       " 'pertussis': 'vaccines',\n",
       " 'severe secondary peritonitis': 'Surgical management',\n",
       " 'hepatic metastases from colorectal cancer': 'Hepatic arterial infusion of chemotherapy',\n",
       " 'stable asthma': 'aerosolized salbutamol'}"
      ]
     },
     "execution_count": 28,
     "metadata": {},
     "output_type": "execute_result"
    }
   ],
   "source": [
    "# Obtaining a cleaned version of our \"Med_dict\" dictionary\n",
    "cleaned_dict = {}\n",
    "for key in med_dict.keys():\n",
    "    if med_dict[key] != []:\n",
    "        cleaned_dict[key] = med_dict[key]\n",
    "cleaned_dict"
   ]
  },
  {
   "cell_type": "code",
   "execution_count": 29,
   "metadata": {
    "colab": {
     "base_uri": "https://localhost:8080/",
     "height": 206
    },
    "id": "uPWokNjaIVYK",
    "outputId": "98739901-350c-4401-964c-b80e755c30a7"
   },
   "outputs": [
    {
     "data": {
      "text/html": [
       "<div>\n",
       "<style scoped>\n",
       "    .dataframe tbody tr th:only-of-type {\n",
       "        vertical-align: middle;\n",
       "    }\n",
       "\n",
       "    .dataframe tbody tr th {\n",
       "        vertical-align: top;\n",
       "    }\n",
       "\n",
       "    .dataframe thead th {\n",
       "        text-align: right;\n",
       "    }\n",
       "</style>\n",
       "<table border=\"1\" class=\"dataframe\">\n",
       "  <thead>\n",
       "    <tr style=\"text-align: right;\">\n",
       "      <th></th>\n",
       "      <th>Disease</th>\n",
       "      <th>Treatments</th>\n",
       "    </tr>\n",
       "  </thead>\n",
       "  <tbody>\n",
       "    <tr>\n",
       "      <th>0</th>\n",
       "      <td>macrosomic infants in gestational diabetes cases</td>\n",
       "      <td>good glycemic control</td>\n",
       "    </tr>\n",
       "    <tr>\n",
       "      <th>1</th>\n",
       "      <td>retinoblastoma</td>\n",
       "      <td>radiotherapy</td>\n",
       "    </tr>\n",
       "    <tr>\n",
       "      <th>2</th>\n",
       "      <td>epilepsy ADHD</td>\n",
       "      <td>Methylphenidate</td>\n",
       "    </tr>\n",
       "    <tr>\n",
       "      <th>3</th>\n",
       "      <td>unstable angina or non - Q - wave myocardial i...</td>\n",
       "      <td>roxithromycin</td>\n",
       "    </tr>\n",
       "    <tr>\n",
       "      <th>4</th>\n",
       "      <td>coronary - artery disease</td>\n",
       "      <td>Antichlamydial antibiotics</td>\n",
       "    </tr>\n",
       "  </tbody>\n",
       "</table>\n",
       "</div>"
      ],
      "text/plain": [
       "                                             Disease  \\\n",
       "0   macrosomic infants in gestational diabetes cases   \n",
       "1                                     retinoblastoma   \n",
       "2                                      epilepsy ADHD   \n",
       "3  unstable angina or non - Q - wave myocardial i...   \n",
       "4                          coronary - artery disease   \n",
       "\n",
       "                   Treatments  \n",
       "0       good glycemic control  \n",
       "1                radiotherapy  \n",
       "2             Methylphenidate  \n",
       "3               roxithromycin  \n",
       "4  Antichlamydial antibiotics  "
      ]
     },
     "execution_count": 29,
     "metadata": {},
     "output_type": "execute_result"
    }
   ],
   "source": [
    "cleaned_df = pd.DataFrame({\"Disease\":med_dict.keys(),\"Treatments\":cleaned_dict.values()})\n",
    "cleaned_df.head()"
   ]
  },
  {
   "cell_type": "markdown",
   "metadata": {
    "id": "qzo3R3ob9Nfm"
   },
   "source": [
    "### Predicting the treatment for the disease name: 'hereditary retinoblastoma'"
   ]
  },
  {
   "cell_type": "code",
   "execution_count": 30,
   "metadata": {
    "colab": {
     "base_uri": "https://localhost:8080/"
    },
    "id": "wF2o14Lj9TsD",
    "outputId": "0b213203-3807-4e85-db86-9319d120f0ee"
   },
   "outputs": [
    {
     "name": "stdout",
     "output_type": "stream",
     "text": [
      "Identified Disease   : retinoblastoma\n",
      "Identified Treatment : radiotherapy, radiotherapy\n"
     ]
    }
   ],
   "source": [
    "disease=''\n",
    "treatment=''\n",
    "\n",
    "input_text = []\n",
    "input_pos = []\n",
    "input_label = []\n",
    "\n",
    "input_sent = 'hereditary retinoblastoma'\n",
    "\n",
    "input_model = model(input_sent)\n",
    "\n",
    "for word in input_model:\n",
    "    input_text.append(word.text)\n",
    "    input_pos.append(word.pos_)\n",
    "    input_label.append('D')\n",
    "\n",
    "details_sent = pd.DataFrame({'text':input_text, 'pos':input_pos,'label':input_label})\n",
    "words_for_features = details_sent.apply(get_word_details, axis=1)\n",
    "\n",
    "test_sent = []\n",
    "\n",
    "for i in range(len(input_sent.split())):\n",
    "    test_sent.append(getFeaturesForOneWord(words_for_features, i))\n",
    "\n",
    "for i,tag in enumerate(crf.predict([test_sent])[0]):\n",
    "    \n",
    "    if tag == 'D':\n",
    "        tr = input_sent.split()[i]\n",
    "        disease += tr + \" \"\n",
    "\n",
    "        if tr in med_dict:\n",
    "            treatment += med_dict.get(tr) + \", \"\n",
    "            \n",
    "        if disease.strip() in med_dict:\n",
    "            treatment += med_dict.get(disease.strip()) + \", \"\n",
    "\n",
    "disease = disease.strip()\n",
    "\n",
    "if len(treatment) == 0:\n",
    "    treatment = 'Not Available'\n",
    "else:\n",
    "    treatment = treatment.rstrip(\", \")\n",
    "    \n",
    "print('Identified Disease   :', disease)\n",
    "print('Identified Treatment :', treatment)\n"
   ]
  },
  {
   "cell_type": "markdown",
   "metadata": {
    "id": "F58TBy4gLF2n"
   },
   "source": [
    "# Conclusion \n",
    "In this project I was able to create a custom CRF model sucessfully which was able to extract the diseases and correspondings treatments. The model achieved a `Test F1-Score` of `92.07 %`. Ultimately, we were also able to predict the treatment for `Hereditary Retinoblastoma` which is `Radiotherapy`."
   ]
  },
  {
   "cell_type": "code",
   "execution_count": null,
   "metadata": {
    "id": "7DW91C1p1FeF"
   },
   "outputs": [],
   "source": []
  }
 ],
 "metadata": {
  "accelerator": "GPU",
  "colab": {
   "provenance": []
  },
  "gpuClass": "standard",
  "kernelspec": {
   "display_name": "Python 3 (ipykernel)",
   "language": "python",
   "name": "python3"
  },
  "language_info": {
   "codemirror_mode": {
    "name": "ipython",
    "version": 3
   },
   "file_extension": ".py",
   "mimetype": "text/x-python",
   "name": "python",
   "nbconvert_exporter": "python",
   "pygments_lexer": "ipython3",
   "version": "3.11.3"
  }
 },
 "nbformat": 4,
 "nbformat_minor": 1
}
